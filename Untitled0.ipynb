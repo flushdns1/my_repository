{
  "cells": [
    {
      "cell_type": "markdown",
      "metadata": {
        "id": "view-in-github",
        "colab_type": "text"
      },
      "source": [
        "<a href=\"https://colab.research.google.com/github/flushdns1/my_repository/blob/main/Untitled0.ipynb\" target=\"_parent\"><img src=\"https://colab.research.google.com/assets/colab-badge.svg\" alt=\"Open In Colab\"/></a>"
      ]
    },
    {
      "cell_type": "code",
      "execution_count": null,
      "metadata": {
        "colab": {
          "base_uri": "https://localhost:8080/",
          "height": 130
        },
        "id": "EteEdBzwZ1yM",
        "outputId": "b756b601-9523-4398-a07b-5496e5508cd9"
      },
      "outputs": [
        {
          "ename": "SyntaxError",
          "evalue": "ignored",
          "output_type": "error",
          "traceback": [
            "\u001b[0;36m  File \u001b[0;32m\"<ipython-input-19-c1850d3d21d1>\"\u001b[0;36m, line \u001b[0;32m19\u001b[0m\n\u001b[0;31m    if ( (N1 == 5) OR (N2 == 5)):\u001b[0m\n\u001b[0m                    ^\u001b[0m\n\u001b[0;31mSyntaxError\u001b[0m\u001b[0;31m:\u001b[0m invalid syntax\n"
          ]
        }
      ],
      "source": [
        "# Введите здесь ваш код\n",
        "A = -11\n",
        "B = 20\n",
        "C = 60\n",
        "\n",
        "if (A<45 or B<45 or C<45):\n",
        "    print('<45')\n",
        "    \n",
        "if (A not in range(-10,0)) and (A not in range(2,16)):\n",
        "    print ('v')\n",
        "\n"
      ]
    },
    {
      "cell_type": "code",
      "execution_count": null,
      "metadata": {
        "colab": {
          "base_uri": "https://localhost:8080/",
          "height": 130
        },
        "id": "7E_tWbnoZ3H-",
        "outputId": "9cad5ccc-bf03-4832-fc9f-e4e11c679186"
      },
      "outputs": [
        {
          "ename": "SyntaxError",
          "evalue": "ignored",
          "output_type": "error",
          "traceback": [
            "\u001b[0;36m  File \u001b[0;32m\"<ipython-input-22-a679c417f579>\"\u001b[0;36m, line \u001b[0;32m6\u001b[0m\n\u001b[0;31m    IF ((first_digit == 5)):\u001b[0m\n\u001b[0m                            ^\u001b[0m\n\u001b[0;31mSyntaxError\u001b[0m\u001b[0;31m:\u001b[0m invalid syntax\n"
          ]
        }
      ],
      "source": [
        "#Дано двузначное число. Определите, входит ли в него цифра 5. Попробуйте решить задачу с использованием целочисленного деления и деления с остатком.\n",
        "n = 15\n",
        "first_digit = n // 10\n",
        "second_digit = n % 10\n",
        "\n",
        "print((first_digit == 5) or (second_digit == 5))"
      ]
    },
    {
      "cell_type": "code",
      "execution_count": null,
      "metadata": {
        "colab": {
          "base_uri": "https://localhost:8080/"
        },
        "id": "lvkYmUdBcbgZ",
        "outputId": "3335722a-7c83-4d03-9cf1-950598eb1f49"
      },
      "outputs": [
        {
          "name": "stdout",
          "output_type": "stream",
          "text": [
            "True\n"
          ]
        }
      ],
      "source": [
        "num = 12344321\n",
        "\n",
        "print(str(num) == str(num)[::-1])"
      ]
    },
    {
      "cell_type": "code",
      "execution_count": null,
      "metadata": {
        "colab": {
          "base_uri": "https://localhost:8080/",
          "height": 183
        },
        "id": "HvRfDordiOyT",
        "outputId": "250ad575-2981-4953-d3bc-c54a69f328d6"
      },
      "outputs": [
        {
          "ename": "NameError",
          "evalue": "ignored",
          "output_type": "error",
          "traceback": [
            "\u001b[0;31m---------------------------------------------------------------------------\u001b[0m",
            "\u001b[0;31mNameError\u001b[0m                                 Traceback (most recent call last)",
            "\u001b[0;32m<ipython-input-30-c4c5bf09ac58>\u001b[0m in \u001b[0;36m<module>\u001b[0;34m()\u001b[0m\n\u001b[1;32m      1\u001b[0m \u001b[0mlst\u001b[0m\u001b[0;34m=\u001b[0m\u001b[0;34m[\u001b[0m\u001b[0;36m90\u001b[0m\u001b[0;34m,\u001b[0m \u001b[0;36m230\u001b[0m\u001b[0;34m,\u001b[0m \u001b[0;36m23\u001b[0m\u001b[0;34m]\u001b[0m\u001b[0;34m\u001b[0m\u001b[0;34m\u001b[0m\u001b[0m\n\u001b[0;32m----> 2\u001b[0;31m \u001b[0mprint\u001b[0m\u001b[0;34m(\u001b[0m\u001b[0mcount\u001b[0m\u001b[0;34m(\u001b[0m\u001b[0mlst\u001b[0m\u001b[0;34m)\u001b[0m\u001b[0;34m)\u001b[0m\u001b[0;34m\u001b[0m\u001b[0;34m\u001b[0m\u001b[0m\n\u001b[0m",
            "\u001b[0;31mNameError\u001b[0m: name 'count' is not defined"
          ]
        }
      ],
      "source": [
        "lst=[90, 230, 23]\n",
        "print(count(lst))"
      ]
    },
    {
      "cell_type": "code",
      "execution_count": null,
      "metadata": {
        "colab": {
          "base_uri": "https://localhost:8080/"
        },
        "id": "CoSFciswatiw",
        "outputId": "f90b8b1e-671f-4f65-d287-7d0687069168"
      },
      "outputs": [
        {
          "name": "stdout",
          "output_type": "stream",
          "text": [
            "98\n",
            "2352\n",
            "54096\n",
            "649152\n",
            "1947456\n",
            "P= 1947456\n"
          ]
        }
      ],
      "source": [
        "lst = [98, 24, 23, 12, 3]\n",
        "P = 1\n",
        "for id in lst:\n",
        "   P *= id\n",
        "   print(P)\n",
        "print ('P=',P)"
      ]
    },
    {
      "cell_type": "code",
      "execution_count": null,
      "metadata": {
        "colab": {
          "base_uri": "https://localhost:8080/"
        },
        "id": "gXEDVGAX14Oh",
        "outputId": "105d143d-c768-4fc2-f68e-bab22e007910"
      },
      "outputs": [
        {
          "name": "stdout",
          "output_type": "stream",
          "text": [
            "*\n",
            "**\n",
            "***\n",
            "****\n",
            "*****\n"
          ]
        }
      ],
      "source": [
        "P = 1  # создаём переменную-счётчик, в которой мы будем считать произведение.\n",
        "#подумайте, чему она должна быть равна \n",
        "N = 5\n",
        "\n",
        "# запишите цикл for для подсчёта произведения\n",
        "for i in range(1, N+1):\n",
        "    #lst = list(range(1,i))\n",
        "    print('*'*i)"
      ]
    },
    {
      "cell_type": "code",
      "execution_count": null,
      "metadata": {
        "colab": {
          "base_uri": "https://localhost:8080/"
        },
        "id": "9FtatgOc816t",
        "outputId": "42e155ea-4c80-4911-d5a5-279f986d2118"
      },
      "outputs": [
        {
          "name": "stdout",
          "output_type": "stream",
          "text": [
            "10\n",
            "42.4\n",
            "240.1\n",
            "101.5\n",
            "98\n",
            "0.4\n",
            "0.3\n",
            "15\n",
            "[240.1, 101.5] [10, 42.4, 98, 0.4, 0.3, 15]\n"
          ]
        }
      ],
      "source": [
        "gruz = list()\n",
        "leg = list()\n",
        "\n",
        "weight_of_products= [10, 42.4, 240.1, 101.5, 98, 0.4, 0.3, 15]\n",
        "for i in weight_of_products:\n",
        "    print (i)\n",
        "    if i > 100:\n",
        "        gruz.append(i)\n",
        "    else:\n",
        "        leg.append(i)\n",
        "print (gruz, leg)"
      ]
    },
    {
      "cell_type": "code",
      "execution_count": null,
      "metadata": {
        "colab": {
          "base_uri": "https://localhost:8080/"
        },
        "id": "_ody3TY1-HTP",
        "outputId": "94d061da-8ed9-46ee-dd0f-1ab8647135bd"
      },
      "outputs": [
        {
          "name": "stdout",
          "output_type": "stream",
          "text": [
            "['Red Square', 'Swallow Nest', 'Unavailable', 'Unavailable', 'Unavailable', 'Hermitage']\n"
          ]
        }
      ],
      "source": [
        "places = ['Red Square','Swallow Nest','Niagara Falls','Grand Canyon','Louvre','Hermitage']\n",
        "#Также есть словарь location, ключи которого — места, которые пользователь хочет посетить, а значения — названия стран, где находятся эти места.\n",
        "\n",
        "location = {'Red Square': 'Russia','Swallow Nest': 'Russia','Niagara Falls': 'USA','Grand Canyon': 'USA','Louvre': 'France','Hermitage': 'Russia'}\n",
        "\n",
        "N = len(places)\n",
        "\n",
        "for i in range(0,N):\n",
        "    country = location[places[i]]\n",
        "    if country != 'Russia':\n",
        "        places[i] = 'Unavailable'\n",
        "print(places)"
      ]
    },
    {
      "cell_type": "code",
      "execution_count": null,
      "metadata": {
        "colab": {
          "base_uri": "https://localhost:8080/"
        },
        "id": "VH68GZfAAPUh",
        "outputId": "4e9f9fcc-8808-4353-a085-57c0eef3d90f"
      },
      "outputs": [
        {
          "name": "stdout",
          "output_type": "stream",
          "text": [
            "0\n",
            "1\n",
            "2\n",
            "3\n",
            "4\n",
            "5\n",
            "6\n",
            "7\n",
            "8\n",
            "9\n",
            "[0, 1, 4, 9, 16, 25, 36, 49, 64, 81]\n",
            "[1, 2, 4, 8, 16, 32, 64, 128, 256, 512, 1024]\n",
            "MynameisDmitriy\n"
          ]
        }
      ],
      "source": [
        "my_list = []\n",
        "for number in range(0, 10):\n",
        "    print(number)\n",
        "    my_list.append(number**2)\n",
        "print(my_list)\n",
        "\n",
        "my_list = [1]\n",
        "for i in range(10):\n",
        "    my_list.append(my_list[i] * 2)\n",
        "print(my_list)\n",
        "\n",
        "word_list = ['My', 'name', 'is', 'Dmitriy']\n",
        "N = len(word_list)\n",
        "\n",
        "for i in range(N):\n",
        "    sent += word_list[i]\n",
        "print(sent)"
      ]
    },
    {
      "cell_type": "code",
      "execution_count": null,
      "metadata": {
        "colab": {
          "base_uri": "https://localhost:8080/"
        },
        "id": "eWuN745iCVKU",
        "outputId": "10e35d0e-5e22-4fc3-db6a-9fc4525f8a78"
      },
      "outputs": [
        {
          "name": "stdout",
          "output_type": "stream",
          "text": [
            "17\n"
          ]
        }
      ],
      "source": [
        "my_list = list(range(0, 100, 3))\n",
        "P = 0\n",
        "\n",
        "for i in my_list:\n",
        "    #print(i)\n",
        "    if i%2 == 0:\n",
        "        P += 1\n",
        "print(P)"
      ]
    },
    {
      "cell_type": "code",
      "execution_count": null,
      "metadata": {
        "colab": {
          "base_uri": "https://localhost:8080/"
        },
        "id": "IrYDZe1EDMP5",
        "outputId": "4f053b5e-0034-43e1-8ed4-13c3d5b7a506"
      },
      "outputs": [
        {
          "name": "stdout",
          "output_type": "stream",
          "text": [
            "3\n"
          ]
        }
      ],
      "source": [
        "my_list = [True, 1, -10, 'hello', False, 'string_1', 123, 2.5, [1, 2], 'another']\n",
        "N = 0\n",
        "P = len(my_list)\n",
        "\n",
        "for i in range(P):\n",
        "    if type(my_list[i]) == type(''):\n",
        "        N += 1\n",
        "print (N)"
      ]
    },
    {
      "cell_type": "code",
      "execution_count": null,
      "metadata": {
        "colab": {
          "base_uri": "https://localhost:8080/"
        },
        "id": "OwcBVPIUGbcK",
        "outputId": "162cefa7-32f5-4f93-ee31-62bfb67f5f04"
      },
      "outputs": [
        {
          "name": "stdout",
          "output_type": "stream",
          "text": [
            "Overweight is 2 kg\n"
          ]
        }
      ],
      "source": [
        "weight = 67\n",
        "WeightS = 0\n",
        "\n",
        "while WeightS < 400:\n",
        "    WeightS += weight\n",
        "print('Overweight is {} kg'.format(WeightS-400))"
      ]
    },
    {
      "cell_type": "code",
      "execution_count": null,
      "metadata": {
        "colab": {
          "base_uri": "https://localhost:8080/"
        },
        "id": "ycISHBCtHPLy",
        "outputId": "58ae66ce-595c-4200-abb4-46a89ac49d35"
      },
      "outputs": [
        {
          "name": "stdout",
          "output_type": "stream",
          "text": [
            "3.3\n",
            "6.6\n",
            "9.899999999999999\n",
            "13.2\n",
            "Overweight is 13.2 kg\n"
          ]
        }
      ],
      "source": [
        "vol = 10\n",
        "volS = 0\n",
        "\n",
        "while volS < vol:\n",
        "    volS += 3.3\n",
        "    print(volS)\n",
        "print('Overweight is {} kg'.format(volS))"
      ]
    },
    {
      "cell_type": "code",
      "execution_count": null,
      "metadata": {
        "colab": {
          "base_uri": "https://localhost:8080/"
        },
        "id": "Cd7zJykMJsaY",
        "outputId": "9c7af765-05d2-46a6-d82a-cc63e96c9bcb"
      },
      "outputs": [
        {
          "name": "stdout",
          "output_type": "stream",
          "text": [
            "8\n"
          ]
        }
      ],
      "source": [
        "n = 1\n",
        "P = 1\n",
        "\n",
        "while P < 1000:\n",
        "    P = 3 ** n\n",
        "    n += 1\n",
        "print(n)"
      ]
    },
    {
      "cell_type": "code",
      "execution_count": null,
      "metadata": {
        "colab": {
          "base_uri": "https://localhost:8080/"
        },
        "id": "SG8YeWgvEltc",
        "outputId": "8d46603a-8681-42a5-90af-4e3df26080f5"
      },
      "outputs": [
        {
          "name": "stdout",
          "output_type": "stream",
          "text": [
            "15\n",
            "3172.169114198272\n"
          ]
        }
      ],
      "source": [
        "S = 1000\n",
        "y = 0\n",
        "\n",
        "while S < 3000:\n",
        "    S *= 1.08\n",
        "    y += 1\n",
        "print(y)\n",
        "print(S)"
      ]
    },
    {
      "cell_type": "code",
      "execution_count": null,
      "metadata": {
        "colab": {
          "base_uri": "https://localhost:8080/"
        },
        "id": "GduYtnr2E_Kz",
        "outputId": "315fe552-ba2c-4f96-a4bd-0463c7bf6477"
      },
      "outputs": [
        {
          "name": "stdout",
          "output_type": "stream",
          "text": [
            "There are 0 people in the room\n",
            "There are 1 people in the room\n",
            "There are 2 people in the room\n",
            "There are 3 people in the room\n",
            "There are 4 people in the room\n"
          ]
        }
      ],
      "source": [
        "max_people = 5\n",
        "i = 0\n",
        "while i <max_people:\n",
        "    print('There are', i, 'people in the room') # В помещении i человек\n",
        "    i += 1\n",
        "   "
      ]
    },
    {
      "cell_type": "code",
      "execution_count": null,
      "metadata": {
        "colab": {
          "base_uri": "https://localhost:8080/"
        },
        "id": "xGMCYpP7F--R",
        "outputId": "aa289d30-9034-4333-8e9a-332c55e7d28b"
      },
      "outputs": [
        {
          "name": "stdout",
          "output_type": "stream",
          "text": [
            "Alarm is set 9:0\n",
            "Alarm is set 9:15\n",
            "Alarm is set 9:30\n",
            "Alarm is set 9:45\n",
            "Alarm is set 11:0\n",
            "Alarm is set 11:15\n",
            "Alarm is set 11:30\n",
            "Alarm is set 11:45\n",
            "Alarm is set 13:0\n",
            "Alarm is set 13:15\n",
            "Alarm is set 13:30\n",
            "Alarm is set 13:45\n",
            "Alarm is set 15:0\n",
            "Alarm is set 15:15\n",
            "Alarm is set 15:30\n",
            "Alarm is set 15:45\n",
            "Alarm is set 17:0\n",
            "Alarm is set 17:15\n",
            "Alarm is set 17:30\n",
            "Alarm is set 17:45\n",
            "Alarm is set 19:0\n",
            "Alarm is set 19:15\n",
            "Alarm is set 19:30\n",
            "Alarm is set 19:45\n",
            "Alarm is set 21:0\n",
            "Alarm is set 21:15\n",
            "Alarm is set 21:30\n",
            "Alarm is set 21:45\n",
            "Alarm is set 23:0\n",
            "Alarm is set 23:15\n",
            "Alarm is set 23:30\n",
            "Alarm is set 23:45\n"
          ]
        }
      ],
      "source": [
        "hours = list(range(9, 24, 2)) #создаём список часов\n",
        "minutes = list(range(0, 60, 15)) #создаём список минут\n",
        "#создаём цикл по элементам списка часов\n",
        "for hour in hours: #hour — текущее значение часа (10, 15, 20)\n",
        "    #создаём цикл по элементам списка минут\n",
        "    for minute in minutes: #second — текущее значение минуты\n",
        "        print('Alarm is set {}:{}'.format(hour, minute)) #выводим время"
      ]
    },
    {
      "cell_type": "code",
      "execution_count": null,
      "metadata": {
        "colab": {
          "base_uri": "https://localhost:8080/"
        },
        "id": "AIUp1-HFJoiY",
        "outputId": "15e25bff-c06d-4237-9cf6-86843d94ff6d"
      },
      "outputs": [
        {
          "name": "stdout",
          "output_type": "stream",
          "text": [
            "afbaad\n",
            "a\n",
            "f\n",
            "b\n",
            "a\n",
            "a\n",
            "d\n",
            "faaf\n",
            "f\n",
            "a\n",
            "a\n",
            "f\n",
            "afaga\n",
            "a\n",
            "f\n",
            "a\n",
            "g\n",
            "a\n",
            "agag\n",
            "a\n",
            "g\n",
            "a\n",
            "g\n",
            "10\n"
          ]
        }
      ],
      "source": [
        "text_list = [\n",
        "    'afbaad',\n",
        "    'faaf',\n",
        "    'afaga',\n",
        "    'agag'\n",
        "]\n",
        "count = 0\n",
        "for i in text_list:\n",
        "    print(i)\n",
        "    for j in i:\n",
        "        print(j)\n",
        "        if j == 'a':\n",
        "            count += 1\n",
        "\n",
        "print (count)"
      ]
    },
    {
      "cell_type": "code",
      "execution_count": null,
      "metadata": {
        "colab": {
          "base_uri": "https://localhost:8080/"
        },
        "id": "u916PeC4K6XX",
        "outputId": "b8f05cd3-2e4a-45da-fd20-39e191306fae"
      },
      "outputs": [
        {
          "name": "stdout",
          "output_type": "stream",
          "text": [
            "Maximal elements: [9, 5, 8]\n"
          ]
        }
      ],
      "source": [
        "random_matrix = [\n",
        "    [9, 2, 1],\n",
        "    [2, 5, 3],\n",
        "    [4, 8, 5]\n",
        "] #заданная матрица\n",
        "max_value_rows = [] #задаём пустой список с минимальными значениями строк\n",
        "#создаём цикл по строкам матрицы random_matrix \n",
        "for row in random_matrix: #row — текущая строка таблицы\n",
        "    max_value = row[0] #начальное значение кандидата на минимум\n",
        "    #создаём цикл по элементам списка row\n",
        "    for elem in row: #elem — текущий элемент из списка row\n",
        "        #проверяем условие, что текущий элемент меньше кандидата на минимум\n",
        "        if elem > max_value: #если условие выполняется,\n",
        "            max_value = elem #заменяем кандидата на минимум\n",
        "    max_value_rows.append(max_value) #добавляем полученный минимум строки в список\n",
        "print(\"Maximal elements:\", max_value_rows)"
      ]
    },
    {
      "cell_type": "code",
      "execution_count": null,
      "metadata": {
        "colab": {
          "base_uri": "https://localhost:8080/"
        },
        "id": "NitWNam6MDta",
        "outputId": "27572bd7-06e3-4711-8e10-42060e428fb1"
      },
      "outputs": [
        {
          "name": "stdout",
          "output_type": "stream",
          "text": [
            "20\n"
          ]
        }
      ],
      "source": [
        "count = 0\n",
        "for i in range(5):\n",
        "    for j in range(4):\n",
        "        count += 1\n",
        "print(count)"
      ]
    },
    {
      "cell_type": "code",
      "execution_count": null,
      "metadata": {
        "colab": {
          "base_uri": "https://localhost:8080/"
        },
        "id": "Hai9JaptNjmb",
        "outputId": "6be721a8-bbd6-4461-9b65-8fea29404153"
      },
      "outputs": [
        {
          "name": "stdout",
          "output_type": "stream",
          "text": [
            "Day 1 : -5\n",
            "Day 2 : 2\n",
            "Day 3 : 4\n",
            "Day 4 : 8\n",
            "Day 5 : 12\n",
            "Day 6 : -7\n",
            "Day 7 : 5\n"
          ]
        }
      ],
      "source": [
        "user_dynamics = [-5, 2, 4, 8, 12, -7, 5] #заданный список динамики пользователей\n",
        "#создаём цикл по индексам и элементам списка \n",
        "for i, dynamic in enumerate(user_dynamics): # i — индекс текущего элемента, dynamic — текущее значение из списка\n",
        "    print(\"Day {} : {}\".format(i+1, dynamic)) #выводим номер дня и динамику на этот день"
      ]
    },
    {
      "cell_type": "code",
      "execution_count": null,
      "metadata": {
        "colab": {
          "base_uri": "https://localhost:8080/"
        },
        "id": "_ZgzJGt-ObEw",
        "outputId": "85fb2eb2-385c-4392-d7f2-1f606db811fc"
      },
      "outputs": [
        {
          "name": "stdout",
          "output_type": "stream",
          "text": [
            "Churn value:  -5\n",
            "Number day:  1\n",
            "Churn value:  -7\n",
            "Number day:  6\n"
          ]
        }
      ],
      "source": [
        "user_dynamics = [-5, 2, 4, 8, 12, -7, 5]\n",
        "number_negative = None #объявляем переменную, в которой будем хранить номер последнего дня оттока, изначально она пустая (None)\n",
        "N = len(user_dynamics) #вычисляем длину списка\n",
        "#создаём цикл по элементам последовательности от 0 до N (не включая N)\n",
        "for i,j in enumerate(user_dynamics): # i — индекс текущего элемента\n",
        "    #проверяем условие оттока — текущий элемент отрицательный\n",
        "    if j < 0: #если условие истинно,\n",
        "        number_negative = i+1  #перезаписываем значение номера дня\n",
        "        print(\"Churn value: \", j) # выводим количество ушедших в этот день пользователей\n",
        "        print(\"Number day: \", i+1) # выводим номер дня"
      ]
    },
    {
      "cell_type": "code",
      "execution_count": null,
      "metadata": {
        "colab": {
          "base_uri": "https://localhost:8080/"
        },
        "id": "eou7xagiP4WB",
        "outputId": "c54ecf05-1fa6-4abf-fbe6-44d98d2dd457"
      },
      "outputs": [
        {
          "name": "stdout",
          "output_type": "stream",
          "text": [
            "n - is not the power of the number 3!\n"
          ]
        }
      ],
      "source": [
        "n = 26 #задаём число\n",
        "#создаём бесконечный цикл\n",
        "while True:\n",
        "    #проверяем условие, что остаток от деления на 3 равен 0\n",
        "    if n % 3 == 0: #если условие выполняется,\n",
        "        n = n // 3 #новое число — результат целочисленного деления на 3\n",
        "        if n == 1: #если в результате деления получили 1,\n",
        "            print('n - is the power of the number 3!')#выводим утвердительное сообщение\n",
        "            break #выходим из цикла\n",
        "    else: #в противном случае\n",
        "        print('n - is not the power of the number 3!') #выводим сообщение-опровержение\n",
        "        break #выходим из цикла"
      ]
    },
    {
      "cell_type": "code",
      "execution_count": null,
      "metadata": {
        "colab": {
          "base_uri": "https://localhost:8080/"
        },
        "id": "k--MEOKMQXFa",
        "outputId": "07aee2a3-aa46-4ea3-ee31-9071d520c128"
      },
      "outputs": [
        {
          "name": "stdout",
          "output_type": "stream",
          "text": [
            "Syracuse hypothesis holds\n"
          ]
        }
      ],
      "source": [
        "n = 9 #задаём число\n",
        "#создаём бесконечный цикл\n",
        "while True:\n",
        "    if n % 2 == 0:\n",
        "        n = n // 2\n",
        "    else:\n",
        "        n = (n * 3 + 1) // 2\n",
        "    if n == 1: #если результат равен 1,\n",
        "        print('Syracuse hypothesis holds') #выводим утвердительное сообщение\n",
        "        break"
      ]
    },
    {
      "cell_type": "code",
      "execution_count": null,
      "metadata": {
        "colab": {
          "base_uri": "https://localhost:8080/"
        },
        "id": "PTkC-TwrRPaL",
        "outputId": "411b6697-6ac3-4ff2-80fa-802345f7073b"
      },
      "outputs": [
        {
          "name": "stdout",
          "output_type": "stream",
          "text": [
            "Send present user 103303\n",
            "Send present user 100423\n"
          ]
        }
      ],
      "source": [
        "client_status = {\n",
        "    103303: 'yes', \n",
        "    103044: 'no',\n",
        "    100423: 'yes',\n",
        "    103032: 'no',\n",
        "    103902: 'no'\n",
        "}\n",
        "#создаём цикл по ключам словаря client_status\n",
        "for user_id in client_status: #user_id — текущий ключ словаря\n",
        "    #если текущий статус == 'no',\n",
        "    if client_status[user_id] == 'no':\n",
        "        continue #переходим на следующую итерацию\n",
        "    else:\n",
        "        print('Send present user', user_id) #выводим сообщение об отправке"
      ]
    },
    {
      "cell_type": "code",
      "execution_count": null,
      "metadata": {
        "colab": {
          "base_uri": "https://localhost:8080/"
        },
        "id": "7WHbBPLvRmdA",
        "outputId": "c3a84568-40c1-4e11-bbd8-559f8ebd70ee"
      },
      "outputs": [
        {
          "name": "stdout",
          "output_type": "stream",
          "text": [
            "4\n"
          ]
        }
      ],
      "source": [
        "my_dict = {'a': 15, 'b': 10.5, 'c': '15', 'd': 50, 'e': 15, 'f': '15'}\n",
        "N = 0\n",
        "\n",
        "for i in my_dict:\n",
        "    if type(my_dict[i]) is str:\n",
        "        continue\n",
        "    else:\n",
        "        N += 1\n",
        "print(N)"
      ]
    },
    {
      "cell_type": "code",
      "execution_count": null,
      "metadata": {
        "colab": {
          "base_uri": "https://localhost:8080/"
        },
        "id": "AymOVt7fSczo",
        "outputId": "50b9d33d-8b68-4908-d3ba-779d23df1a45"
      },
      "outputs": [
        {
          "name": "stdout",
          "output_type": "stream",
          "text": [
            "i: 1\n",
            "1\n",
            "i: 2\n",
            "2\n",
            "i: 3\n",
            "3\n",
            "i: 4\n",
            "4\n",
            "i: 5\n",
            "5\n"
          ]
        }
      ],
      "source": [
        "a = [1,2,3,4,5]\n",
        "for i in a:\n",
        "    print('i:',i)\n",
        "    if i > 3:\n",
        "        pass\n",
        "    print(i)"
      ]
    },
    {
      "cell_type": "code",
      "execution_count": null,
      "metadata": {
        "colab": {
          "base_uri": "https://localhost:8080/"
        },
        "id": "KuEaNqWNTQZ1",
        "outputId": "d0981abd-a1ca-4d2e-d524-c5f38d678424"
      },
      "outputs": [
        {
          "name": "stdout",
          "output_type": "stream",
          "text": [
            "{'s': 33, 'h': 18, 'e': 29, 'l': 18, 'a': 12, 'o': 6, 'n': 2, 't': 8, 'r': 7, ';': 1, 'i': 3, 'm': 2, 'u': 2, '.': 2, 'f': 1, ',': 1}\n"
          ]
        }
      ],
      "source": [
        "text = \"\"\"\n",
        "She sells sea shells on the sea shore;\n",
        "The shells that she sells are sea shells I am sure.\n",
        "So if she sells sea shells on the sea shore,\n",
        "I am sure that the shells are sea shore shells.\n",
        "\"\"\"\n",
        "text = text.lower() #приводим текст к нижнему регистру\n",
        "text = text.replace(\" \", \"\") #заменяем пробелы на пустые строки\n",
        "text = text.replace(\"\\n\", \"\") #заменяем символы переноса строки на пустые строки\n",
        "count_dict = {} #создаём пустой словарь для подсчёта количества символов\n",
        "#создаём цикл по символам в строке text\n",
        "for symbol in text: #symbol — текущий символ в тексте\n",
        "    #проверяем условие, что символа ещё нет среди ключей словаря\n",
        "    if symbol not in count_dict: #если условие выполняется,\n",
        "        count_dict[symbol] = 1 #заносим символ в словарь со значением 1\n",
        "    else: #в противном случае\n",
        "        count_dict[symbol] += 1 #увеличиваем частоту символа\n",
        "print(count_dict) #выводим результирующий словарь"
      ]
    },
    {
      "cell_type": "code",
      "execution_count": null,
      "metadata": {
        "colab": {
          "base_uri": "https://localhost:8080/"
        },
        "id": "fZKYMXAWTrXy",
        "outputId": "33f0adb6-a0f5-45a9-8dbe-73d82ba374bc"
      },
      "outputs": [
        {
          "name": "stdout",
          "output_type": "stream",
          "text": [
            "{'she': 3, 'sells': 3, 'sea': 6, 'shells': 6, 'on': 2, 'the': 4, 'shore': 3, 'that': 2, 'are': 2, 'i': 2, 'am': 2, 'sure': 2, 'so': 1, 'if': 1}\n"
          ]
        }
      ],
      "source": [
        "text = \"\"\"\n",
        "She sells sea shells on the sea shore;\n",
        "The shells that she sells are sea shells I am sure.\n",
        "So if she sells sea shells on the sea shore,\n",
        "I am sure that the shells are sea shore shells.\n",
        "\"\"\"\n",
        "text = text.lower() #приводим текст к нижнему регистру\n",
        "text = text.replace(\"\\n\", \" \") #заменяем символы переноса строки на пробелы\n",
        "text = text.replace(\",\", \"\") #заменяем запятые на пустые строки\n",
        "text = text.replace(\".\", \"\") #заменяем точки на пустые строки\n",
        "text = text.replace(\";\", \"\") #заменяем точки с запятыми на пустые строки\n",
        "word_list = text.split()\n",
        "count_dict = {} #создаём пустой словарь для подсчёта количества слов\n",
        "#создаём цикл по словам в списке word_list\n",
        "for word in word_list: #word — текущее слово из списка word_list\n",
        "    #проверяем условие, что слова ещё нет среди ключей словаря\n",
        "    if word not in count_dict: #если условие выполняется,\n",
        "        count_dict[word] = 1 #заносим слово в словарь со значением 1\n",
        "    else: #в противном случае\n",
        "        count_dict[word] += 1 #увеличиваем частоту слова\n",
        "print(count_dict) #выводим результирующий словарь"
      ]
    },
    {
      "cell_type": "code",
      "execution_count": null,
      "metadata": {
        "colab": {
          "base_uri": "https://localhost:8080/"
        },
        "id": "0_YvxqJEKWMy",
        "outputId": "ed6d25ac-8598-4c5a-f6e8-850badeedd6b"
      },
      "outputs": [
        {
          "name": "stdout",
          "output_type": "stream",
          "text": [
            "[4, 1, 1, 6, 5, 3, 8, 6, 3, 6]\n",
            "yes\n",
            "S= 4 ; i= 1\n",
            "S= 5 ; i= 2\n",
            "S= 6 ; i= 3\n",
            "S= 12 ; i= 4\n"
          ]
        }
      ],
      "source": [
        "import random\n",
        "my_list = []\n",
        "for i in range(0, 10):\n",
        "    my_list.append(random.randint(0, 10))\n",
        "\n",
        "print(my_list)\n",
        "\n",
        "for i in my_list:\n",
        "    #print('i=', i)\n",
        "    if my_list.count(i) > 1:\n",
        "        print ('yes')\n",
        "        break\n",
        "\n",
        "S = 0\n",
        "i = 0\n",
        "\n",
        "while S < 10:\n",
        "    S += my_list[i]\n",
        "    i += 1\n",
        "    print('S=',S,'; i=',i)"
      ]
    },
    {
      "cell_type": "code",
      "execution_count": null,
      "metadata": {
        "colab": {
          "base_uri": "https://localhost:8080/"
        },
        "id": "hwKGovHa8cwN",
        "outputId": "9c25072b-1fc7-4f8b-93ca-f4caea28ef99"
      },
      "outputs": [
        {
          "name": "stdout",
          "output_type": "stream",
          "text": [
            "[[0, 'Hel'], [1, 'my'], [2, 'nam'], [3, 'is'], [4, 'Eze'], [5, 'I'], [6, 'lik'], [7, 'kni']]\n"
          ]
        }
      ],
      "source": [
        "str_list = ['Hello', 'my', 'name', 'is', 'Ezeikel', 'I', 'like', 'knitting'] \n",
        "cut_str_list = []\n",
        "\n",
        "for i, value in enumerate(str_list):\n",
        "    if len(value) < 3:\n",
        "        cut_str_list.append([i, value])\n",
        "    else:\n",
        "        cut_str_list.append([i, value[:3]])\n",
        "print(cut_str_list)"
      ]
    },
    {
      "cell_type": "code",
      "execution_count": null,
      "metadata": {
        "colab": {
          "base_uri": "https://localhost:8080/"
        },
        "id": "ZmPK7ko2_Z4T",
        "outputId": "959ce519-3e93-442d-c4c2-ed3d05fe7757"
      },
      "outputs": [
        {
          "name": "stdout",
          "output_type": "stream",
          "text": [
            "a robot may not injure a human being or through inaction allow a human being to come to harm\n",
            "['a', 'robot', 'may', 'not', 'injure', 'a', 'human', 'being', 'or', 'through', 'inaction', 'allow', 'a', 'human', 'being', 'to', 'come', 'to', 'harm']\n",
            "{'a': 3, 'robot': 1, 'may': 1, 'not': 1, 'injure': 1, 'human': 2, 'being': 2, 'or': 1, 'through': 1, 'inaction': 1, 'allow': 1, 'to': 2, 'come': 1, 'harm': 1}\n"
          ]
        }
      ],
      "source": [
        "sentence = 'A roboT MAY Not injure a humAn BEING or, tHROugh INACtion, allow a human BEING to come to harm'\n",
        "sentence = sentence.lower()\n",
        "sentence = sentence.replace(\",\", \"\")\n",
        "word_list = sentence.split()\n",
        "\n",
        "word_dict = {}\n",
        "for word in word_list:\n",
        "    if word not in word_dict:\n",
        "        word_dict[word] = 1\n",
        "    else:\n",
        "        word_dict[word] += 1\n",
        "print(word_dict)"
      ]
    },
    {
      "cell_type": "code",
      "execution_count": null,
      "metadata": {
        "colab": {
          "base_uri": "https://localhost:8080/"
        },
        "id": "VPwGD7AiBXJQ",
        "outputId": "9ebe9e7c-25e6-4735-9286-f0a7aa57ed4c"
      },
      "outputs": [
        {
          "name": "stdout",
          "output_type": "stream",
          "text": [
            "text\n",
            "morning\n",
            "notepad\n",
            "television\n",
            "ornament\n",
            "{'text': 2, 'morning': 0, 'notepad': 1, 'television': 1, 'ornament': 1}\n"
          ]
        }
      ],
      "source": [
        "#Дан список из строк:\n",
        "#str_list = ['text', 'morning', 'notepad', 'television', 'ornament']\n",
        "#Подсчитайте количество вхождений символа 't' в каждую из строк этого списка.\n",
        "#Для подсчёта используйте словарь word_dict: в качестве ключа запишите в него строку, в качестве значения — число вхождений буквы 't' в эту строку.\n",
        "#Пример работы программы для списка lst = ['letter', 'hello']:\n",
        "# {'letter': 2, 'hello': 0}.\n",
        "#В результате работы вашей программы в переменной word_dict должен храниться результирующий словарь.\n",
        "#Для тренировки используйте вложенные циклы: внешний цикл по элементам списка, внутренний цикл по символам в текущей строке.\n",
        "\n",
        "str_list = ['text', 'morning', 'notepad', 'television', 'ornament']\n",
        "word_dict = {}\n",
        "\n",
        "for i in str_list:\n",
        "    print(i)\n",
        "    word_dict[i] = 0\n",
        "    for j in list(i):\n",
        "        if j == 't':\n",
        "            word_dict[i] += 1\n",
        "print(word_dict)"
      ]
    },
    {
      "cell_type": "code",
      "execution_count": null,
      "metadata": {
        "colab": {
          "base_uri": "https://localhost:8080/",
          "height": 183
        },
        "id": "c3eZiCgnNIsB",
        "outputId": "c5fa4906-ad5c-45e9-b6c8-184e079ca622"
      },
      "outputs": [
        {
          "ename": "NameError",
          "evalue": "ignored",
          "output_type": "error",
          "traceback": [
            "\u001b[0;31m---------------------------------------------------------------------------\u001b[0m",
            "\u001b[0;31mNameError\u001b[0m                                 Traceback (most recent call last)",
            "\u001b[0;32m<ipython-input-11-d8349e49ec77>\u001b[0m in \u001b[0;36m<module>\u001b[0;34m()\u001b[0m\n\u001b[1;32m      1\u001b[0m \u001b[0mmy_list\u001b[0m \u001b[0;34m=\u001b[0m \u001b[0;34m[\u001b[0m\u001b[0;34m[\u001b[0m\u001b[0;34m'Smirnov'\u001b[0m\u001b[0;34m,\u001b[0m \u001b[0;34m'Ivan'\u001b[0m\u001b[0;34m,\u001b[0m \u001b[0;36m23\u001b[0m\u001b[0;34m]\u001b[0m\u001b[0;34m,\u001b[0m \u001b[0;34m[\u001b[0m\u001b[0;34m'Kuznetsova'\u001b[0m\u001b[0;34m,\u001b[0m \u001b[0;34m'Maria'\u001b[0m\u001b[0;34m,\u001b[0m \u001b[0;36m27\u001b[0m\u001b[0;34m]\u001b[0m\u001b[0;34m]\u001b[0m\u001b[0;34m\u001b[0m\u001b[0;34m\u001b[0m\u001b[0m\n\u001b[0;32m----> 2\u001b[0;31m \u001b[0mcount\u001b[0m\u001b[0;34m(\u001b[0m\u001b[0mmy_list\u001b[0m\u001b[0;34m)\u001b[0m\u001b[0;34m\u001b[0m\u001b[0;34m\u001b[0m\u001b[0m\n\u001b[0m",
            "\u001b[0;31mNameError\u001b[0m: name 'count' is not defined"
          ]
        }
      ],
      "source": [
        "my_list = [['Smirnov', 'Ivan', 23], ['Kuznetsova', 'Maria', 27]]\n",
        "count(my_list)"
      ]
    },
    {
      "cell_type": "code",
      "execution_count": null,
      "metadata": {
        "colab": {
          "base_uri": "https://localhost:8080/"
        },
        "id": "p-z_hEPCTsWD",
        "outputId": "07204bb1-b832-4964-ab8d-f01c3627a0c3"
      },
      "outputs": [
        {
          "name": "stdout",
          "output_type": "stream",
          "text": [
            "Python, SQL, Machine Learning, Statistics\n"
          ]
        }
      ],
      "source": [
        "langs = ['Python', 'SQL', 'Machine Learning', 'Statistics']\n",
        "print(*langs,sep=', ')"
      ]
    },
    {
      "cell_type": "code",
      "execution_count": null,
      "metadata": {
        "colab": {
          "base_uri": "https://localhost:8080/"
        },
        "id": "FyEf5Nz6cUzr",
        "outputId": "4dd4168a-0e20-41c8-e6b2-a40fe8bee556"
      },
      "outputs": [
        {
          "name": "stdout",
          "output_type": "stream",
          "text": [
            "Kuznetsov: 4.454545454545454\n"
          ]
        }
      ],
      "source": [
        "def mean_mark(*marks, name):\n",
        "    result = sum(marks) / len(marks)\n",
        "    # Не возвращаем результат, а печатаем его\n",
        "    print(name+':', result)\n",
        "\n",
        "\n",
        "mean_mark(4,5,5,5,5,3,4,4,5,4,5, name='Kuznetsov')"
      ]
    },
    {
      "cell_type": "code",
      "execution_count": null,
      "metadata": {
        "colab": {
          "base_uri": "https://localhost:8080/"
        },
        "id": "46RpPYcFeW4z",
        "outputId": "59988c28-2bd7-4f9b-a494-638f476a52f4"
      },
      "outputs": [
        {
          "name": "stdout",
          "output_type": "stream",
          "text": [
            "1, 4, 6, 8; 12, 45, 56, 190, 111; Python, Functions; "
          ]
        }
      ],
      "source": [
        "list1 = [1,4,6,8]\n",
        "list2 = [12, 45, 56, 190, 111]\n",
        "list3 = ['Python', 'Functions']\n",
        " \n",
        "# Один раз запишем в словарь параметры для печати\n",
        "# через print: разделитель — запятая,\n",
        "# окончание строки — точка с запятой\n",
        "how = {'sep': ', ', 'end': '; '}\n",
        " \n",
        "# Распаковываем и список, и словарь how\n",
        "print(*list1, **how)\n",
        "print(*list2, **how)\n",
        "print(*list3, **how)\n",
        " \n",
        "#Будет напечатано:\n",
        "# 1, 4, 6, 8; 12, 45, 56, 190, 111; Python, Functions;"
      ]
    },
    {
      "cell_type": "code",
      "execution_count": null,
      "metadata": {
        "colab": {
          "base_uri": "https://localhost:8080/"
        },
        "id": "DLn8LPBge1p1",
        "outputId": "92da609f-0d63-4865-fef1-d3552637b8ef"
      },
      "outputs": [
        {
          "name": "stdout",
          "output_type": "stream",
          "text": [
            "['Kim', 'Ivan', 'Simon', 'German', 'Margarita']\n",
            "['cc', 'bbb', 'aaa', 'ababa', 'aaaaa']\n",
            "['cc', 'aaa', 'bbb', 'aaaaa', 'ababa']\n"
          ]
        }
      ],
      "source": [
        "names = ['Ivan', 'Kim', 'German', 'Margarita', 'Simon']\n",
        "names.sort(key=lambda f: len(f))\n",
        "print(names)\n",
        "\n",
        "new_list = ['bbb', 'ababa','aaa', 'aaaaa',  'cc']\n",
        "\n",
        "new_list.sort(key=lambda word: len(word))\n",
        "print(new_list)\n",
        "# Будет напечатано:\n",
        "# ['cc', 'bbb', 'aaa', 'ababa', 'aaaaa']\n",
        "\n",
        "new_list.sort(key=lambda word: (len(word), word))\n",
        "print(new_list)"
      ]
    },
    {
      "cell_type": "code",
      "execution_count": null,
      "metadata": {
        "colab": {
          "base_uri": "https://localhost:8080/"
        },
        "id": "VYWDFwsNuvAp",
        "outputId": "d5413257-9d3f-404b-b922-fb83eaad998c"
      },
      "outputs": [
        {
          "name": "stdout",
          "output_type": "stream",
          "text": [
            "5.0\n",
            "9.055385138137417\n",
            "[(1, 2), (3, 4), (10, 10)]\n"
          ]
        }
      ],
      "source": [
        "#Напишите lambda-функцию для расчёта гипотенузы прямоугольного треугольника: она принимает на вход длины двух катетов и возвращает длину гипотенузы (третьей, самой длинной стороны прямоугольного треугольника).\n",
        "\n",
        "#Формула: , где  и  — длины катетов,  — длина гипотенузы. Сохраните эту функцию в переменную hyp.\n",
        "\n",
        "#Пример работы функции:\n",
        "\n",
        "hyp = lambda a,b: (a**2 + b**2) ** (1/2)\n",
        "print(hyp(3,4))\n",
        "print(hyp(1,9))\n",
        "# 5.0\n",
        "# 9.055385138137417\n",
        "\n",
        "def sort_sides(l_in):\n",
        "    l_in.sort(key = lambda l: (l[0]**2 + l[1]**2) ** (1/2))\n",
        "    return l_in\n",
        "\n",
        "print(sort_sides([(3,4), (1,2), (10,10)]))"
      ]
    },
    {
      "cell_type": "code",
      "execution_count": null,
      "metadata": {
        "colab": {
          "base_uri": "https://localhost:8080/"
        },
        "id": "iZiC8k4Gzu6R",
        "outputId": "97d7a4c4-5dab-4c06-ec32-a3a3b1940258"
      },
      "outputs": [
        {
          "name": "stdout",
          "output_type": "stream",
          "text": [
            "1.5\n"
          ]
        }
      ],
      "source": [
        "p = lambda *args: sum(args)/len(args)\n",
        "print (p(1,2))"
      ]
    },
    {
      "cell_type": "code",
      "execution_count": null,
      "metadata": {
        "colab": {
          "base_uri": "https://localhost:8080/"
        },
        "id": "dY1Sb1ImIxJj",
        "outputId": "6a59a1f5-01a0-43e4-895b-9a7e385b668a"
      },
      "outputs": [
        {
          "name": "stdout",
          "output_type": "stream",
          "text": [
            "[]\n",
            "None\n",
            "[0, 1, 24, 25, 26]\n",
            "0 24\n",
            "[0, 1, 24, 25, 26]\n",
            "0 24\n"
          ]
        }
      ],
      "source": [
        "def get_less(list_in, num):\n",
        "    # Вместо pass напишите тело функции\n",
        "    list_in.sort()\n",
        "    print (list_in)\n",
        "    if len(list_in) > 0:\n",
        "        if list_in[0] <= num:\n",
        "            return(list_in[0])\n",
        "        else:\n",
        "            return (None)\n",
        "\n",
        "l = []\n",
        "print(get_less(l, 1))\n",
        "\n",
        "print(get_less([25, 26, 24, 1, 0], 25), 24)\n",
        "\n",
        "print(get_less([25, 26, 24, 1, 0], 25), 24)"
      ]
    },
    {
      "cell_type": "code",
      "execution_count": null,
      "metadata": {
        "colab": {
          "base_uri": "https://localhost:8080/"
        },
        "id": "NlWlnMfpSE8M",
        "outputId": "4246aca4-3d2b-4a26-a878-cc46ca96e743"
      },
      "outputs": [
        {
          "name": "stdout",
          "output_type": "stream",
          "text": [
            "(7, 1, 1001)\n"
          ]
        }
      ],
      "source": [
        "def split_date(date):\n",
        "    day, month, year = date[:2], date[2:4], date[4:]\n",
        "    return int(day), int(month), int(year)\n",
        "\n",
        "print(split_date(\"07011001\"))"
      ]
    },
    {
      "cell_type": "code",
      "execution_count": null,
      "metadata": {
        "colab": {
          "base_uri": "https://localhost:8080/"
        },
        "id": "jKy9qYumTxRA",
        "outputId": "f3274203-fe62-4c3b-cdba-ccc1f8b12cbe"
      },
      "outputs": [
        {
          "name": "stdout",
          "output_type": "stream",
          "text": [
            "[]\n",
            "False\n",
            "[2, 3, 4, 5, 6, 7, 8, 9]\n",
            "2\n",
            "False\n",
            "[2, 3, 4, 5, 6, 7, 8, 9, 10, 11, 12]\n",
            "2\n",
            "3\n",
            "4\n",
            "5\n",
            "6\n",
            "7\n",
            "8\n",
            "9\n",
            "10\n",
            "11\n",
            "12\n",
            "True\n"
          ]
        }
      ],
      "source": [
        "def is_prime(num):\n",
        "    lst = list(range(2,num))\n",
        "    if num == 1:\n",
        "        return(False)\n",
        "    else:\n",
        "        for i in lst:\n",
        "            if num % i == 0:\n",
        "                return(False)\n",
        "        return(True)\n",
        "\n",
        "print(is_prime(1))\n",
        "print(is_prime(10))\n",
        "print(is_prime(13))"
      ]
    },
    {
      "cell_type": "code",
      "execution_count": null,
      "metadata": {
        "colab": {
          "base_uri": "https://localhost:8080/"
        },
        "id": "zkYIUbGmY694",
        "outputId": "d0c65266-27c2-4484-860b-171fc9a82058"
      },
      "outputs": [
        {
          "name": "stdout",
          "output_type": "stream",
          "text": [
            "10.0\n",
            "3.0\n"
          ]
        }
      ],
      "source": [
        "#Напишите функцию between_min_max(...), которая принимает на вход числа через запятую.\n",
        "#Функция возвращает среднее арифметическое между максимальным и минимальным значением этих чисел, то есть (max + min)/2.\n",
        "#Пример:\n",
        "def between_min_max (*num):\n",
        "    min_val = min(num)\n",
        "    max_val = max(num)\n",
        "    return (min_val + max_val) / 2\n",
        "\n",
        "print(between_min_max(10))\n",
        "print(between_min_max(1,2,3,4,5))\n",
        "\n",
        "\n"
      ]
    },
    {
      "cell_type": "code",
      "execution_count": null,
      "metadata": {
        "colab": {
          "base_uri": "https://localhost:8080/"
        },
        "id": "X2M1P0E0aPih",
        "outputId": "91b81298-c002-4ac8-d825-72f9110da533"
      },
      "outputs": [
        {
          "name": "stdout",
          "output_type": "stream",
          "text": [
            "('Mike', 3)\n",
            "('Tom', 12)\n",
            "('Jerry', 1)\n"
          ]
        }
      ],
      "source": [
        "def best_student(**rates):\n",
        "    min_rate = 0\n",
        "    min_name = ''\n",
        "    for name, rate in rates.items():\n",
        "        #if min_rate == None:\n",
        "            #min_rate = rate\n",
        "            #min_name = name\n",
        "        if min_rate > rate or min_rate == 0:\n",
        "            min_rate = rate\n",
        "            min_name = name\n",
        "    return min_name, min_rate\n",
        "\n",
        "print(best_student(Tom=12, Mike=3))\n",
        "print(best_student(Tom=12))\n",
        "print(best_student(Tom=12, Jerry=1, Jane=2))"
      ]
    },
    {
      "cell_type": "code",
      "execution_count": null,
      "metadata": {
        "colab": {
          "base_uri": "https://localhost:8080/"
        },
        "id": "IadCbNkg6Xog",
        "outputId": "5c78e08e-e49a-46e6-ce57-cf41d7c4600a"
      },
      "outputs": [
        {
          "name": "stdout",
          "output_type": "stream",
          "text": [
            "no\n",
            "yes\n"
          ]
        }
      ],
      "source": [
        "is_palindrom = lambda X: 'yes' \\\n",
        "if X == X[::-1]\\\n",
        "else 'no'\n",
        "\n",
        "print(is_palindrom('1234'))\n",
        "print(is_palindrom('12321'))"
      ]
    },
    {
      "cell_type": "code",
      "execution_count": null,
      "metadata": {
        "colab": {
          "base_uri": "https://localhost:8080/"
        },
        "id": "wJ6XN0Mu-GM3",
        "outputId": "b7e101f7-47fa-4cdd-9c0a-49750597e990"
      },
      "outputs": [
        {
          "name": "stdout",
          "output_type": "stream",
          "text": [
            "60\n"
          ]
        }
      ],
      "source": [
        "area = lambda x,y: x*y\n",
        "print(area(12,5))"
      ]
    },
    {
      "cell_type": "code",
      "execution_count": null,
      "metadata": {
        "colab": {
          "base_uri": "https://localhost:8080/"
        },
        "id": "l96QMy6n_BhB",
        "outputId": "715eba04-50b8-4639-bd5d-94130c056db3"
      },
      "outputs": [
        {
          "name": "stdout",
          "output_type": "stream",
          "text": [
            "3.0\n"
          ]
        }
      ],
      "source": [
        "between_min_max = lambda *x: (min(x)+max(x))/2;\n",
        "print(between_min_max(1,2,3,4,5))"
      ]
    },
    {
      "cell_type": "code",
      "execution_count": null,
      "metadata": {
        "colab": {
          "base_uri": "https://localhost:8080/"
        },
        "id": "xDgO9i8J_edL",
        "outputId": "f7e0c01b-d9e6-44da-8c94-9ee9c076b040"
      },
      "outputs": [
        {
          "name": "stdout",
          "output_type": "stream",
          "text": [
            "['abc', 'Acc']\n"
          ]
        }
      ],
      "source": [
        "def sort_ignore_case (lst):\n",
        "    return sorted(lst, key=lambda s: s.lower())\n",
        "\n",
        "print(sort_ignore_case(['Acc', 'abc']))\n",
        "# ['abc', 'Acc']"
      ]
    },
    {
      "cell_type": "code",
      "execution_count": null,
      "metadata": {
        "colab": {
          "base_uri": "https://localhost:8080/",
          "height": 478
        },
        "id": "U0JnYzIuADrZ",
        "outputId": "2740db1b-fefa-48b0-a68b-66dbad52d2c5"
      },
      "outputs": [
        {
          "name": "stdout",
          "output_type": "stream",
          "text": [
            "100 8500 None\n",
            "85.0\n",
            "100 None 85\n",
            "8500\n",
            "None 1000 85\n",
            "11.764705882352942\n",
            "90 1000 85\n"
          ]
        },
        {
          "ename": "ValueError",
          "evalue": "ignored",
          "output_type": "error",
          "traceback": [
            "\u001b[0;31m---------------------------------------------------------------------------\u001b[0m",
            "\u001b[0;31mValueError\u001b[0m                                Traceback (most recent call last)",
            "\u001b[0;32m<ipython-input-42-e8c5dfb2db42>\u001b[0m in \u001b[0;36m<module>\u001b[0;34m()\u001b[0m\n\u001b[1;32m     19\u001b[0m \u001b[0;31m# 8500\u001b[0m\u001b[0;34m\u001b[0m\u001b[0;34m\u001b[0m\u001b[0;34m\u001b[0m\u001b[0m\n\u001b[1;32m     20\u001b[0m \u001b[0;31m# 11.764705882352942\u001b[0m\u001b[0;34m\u001b[0m\u001b[0;34m\u001b[0m\u001b[0;34m\u001b[0m\u001b[0m\n\u001b[0;32m---> 21\u001b[0;31m \u001b[0mprint\u001b[0m\u001b[0;34m(\u001b[0m\u001b[0mexchange\u001b[0m\u001b[0;34m(\u001b[0m\u001b[0mrub\u001b[0m\u001b[0;34m=\u001b[0m\u001b[0;36m1000\u001b[0m\u001b[0;34m,\u001b[0m \u001b[0mrate\u001b[0m\u001b[0;34m=\u001b[0m\u001b[0;36m85\u001b[0m\u001b[0;34m,\u001b[0m \u001b[0musd\u001b[0m\u001b[0;34m=\u001b[0m\u001b[0;36m90\u001b[0m\u001b[0;34m)\u001b[0m\u001b[0;34m)\u001b[0m\u001b[0;34m\u001b[0m\u001b[0;34m\u001b[0m\u001b[0m\n\u001b[0m\u001b[1;32m     22\u001b[0m \u001b[0;31m# ValueError: Too many arguments\u001b[0m\u001b[0;34m\u001b[0m\u001b[0;34m\u001b[0m\u001b[0;34m\u001b[0m\u001b[0m\n\u001b[1;32m     23\u001b[0m \u001b[0mprint\u001b[0m\u001b[0;34m(\u001b[0m\u001b[0mexchange\u001b[0m\u001b[0;34m(\u001b[0m\u001b[0mrub\u001b[0m\u001b[0;34m=\u001b[0m\u001b[0;36m1000\u001b[0m\u001b[0;34m)\u001b[0m\u001b[0;34m)\u001b[0m\u001b[0;34m\u001b[0m\u001b[0;34m\u001b[0m\u001b[0m\n",
            "\u001b[0;32m<ipython-input-42-e8c5dfb2db42>\u001b[0m in \u001b[0;36mexchange\u001b[0;34m(usd, rub, rate)\u001b[0m\n\u001b[1;32m      3\u001b[0m     \u001b[0mprint\u001b[0m \u001b[0;34m(\u001b[0m\u001b[0musd\u001b[0m\u001b[0;34m,\u001b[0m \u001b[0mrub\u001b[0m\u001b[0;34m,\u001b[0m \u001b[0mrate\u001b[0m\u001b[0;34m)\u001b[0m\u001b[0;34m\u001b[0m\u001b[0;34m\u001b[0m\u001b[0m\n\u001b[1;32m      4\u001b[0m     \u001b[0;32mif\u001b[0m \u001b[0musd\u001b[0m \u001b[0;32mis\u001b[0m \u001b[0;32mnot\u001b[0m \u001b[0;32mNone\u001b[0m \u001b[0;32mand\u001b[0m \u001b[0mrub\u001b[0m \u001b[0;32mis\u001b[0m \u001b[0;32mnot\u001b[0m \u001b[0;32mNone\u001b[0m \u001b[0;32mand\u001b[0m \u001b[0mrate\u001b[0m \u001b[0;32mis\u001b[0m \u001b[0;32mnot\u001b[0m \u001b[0;32mNone\u001b[0m\u001b[0;34m:\u001b[0m\u001b[0;34m\u001b[0m\u001b[0;34m\u001b[0m\u001b[0m\n\u001b[0;32m----> 5\u001b[0;31m         \u001b[0;32mraise\u001b[0m \u001b[0mValueError\u001b[0m\u001b[0;34m(\u001b[0m\u001b[0;34m\"Too many arguments\"\u001b[0m\u001b[0;34m)\u001b[0m\u001b[0;34m\u001b[0m\u001b[0;34m\u001b[0m\u001b[0m\n\u001b[0m\u001b[1;32m      6\u001b[0m     \u001b[0;32melif\u001b[0m \u001b[0;34m(\u001b[0m\u001b[0musd\u001b[0m \u001b[0;32mis\u001b[0m \u001b[0;32mNone\u001b[0m \u001b[0;32mand\u001b[0m \u001b[0mrub\u001b[0m \u001b[0;32mis\u001b[0m \u001b[0;32mNone\u001b[0m\u001b[0;34m)\u001b[0m \u001b[0;32mor\u001b[0m \u001b[0;34m(\u001b[0m\u001b[0musd\u001b[0m \u001b[0;32mis\u001b[0m \u001b[0;32mNone\u001b[0m \u001b[0;32mand\u001b[0m \u001b[0mrate\u001b[0m \u001b[0;32mis\u001b[0m \u001b[0;32mNone\u001b[0m\u001b[0;34m)\u001b[0m \u001b[0;32mor\u001b[0m \u001b[0;34m(\u001b[0m\u001b[0mrate\u001b[0m \u001b[0;32mis\u001b[0m \u001b[0;32mNone\u001b[0m \u001b[0;32mand\u001b[0m \u001b[0mrub\u001b[0m \u001b[0;32mis\u001b[0m \u001b[0;32mNone\u001b[0m\u001b[0;34m)\u001b[0m\u001b[0;34m:\u001b[0m\u001b[0;34m\u001b[0m\u001b[0;34m\u001b[0m\u001b[0m\n\u001b[1;32m      7\u001b[0m         \u001b[0;32mraise\u001b[0m \u001b[0mValueError\u001b[0m\u001b[0;34m(\u001b[0m\u001b[0;34m\"Not enough arguments\"\u001b[0m\u001b[0;34m)\u001b[0m\u001b[0;34m\u001b[0m\u001b[0;34m\u001b[0m\u001b[0m\n",
            "\u001b[0;31mValueError\u001b[0m: Too many arguments"
          ]
        }
      ],
      "source": [
        "def exchange(usd = None, rub = None, rate = None):\n",
        "\n",
        "    print (usd, rub, rate)\n",
        "    if usd is not None and rub is not None and rate is not None:\n",
        "        raise ValueError(\"Too many arguments\")\n",
        "    elif (usd is None and rub is None) or (usd is None and rate is None) or (rate is None and rub is None):\n",
        "        raise ValueError(\"Not enough arguments\")\n",
        "    elif rate == None and usd != 0:\n",
        "        return rub / usd\n",
        "    elif rub == None:\n",
        "        return usd * rate\n",
        "    elif usd == None and rate != 0:\n",
        "        return rub / rate\n",
        "\n",
        "print(exchange(usd=100, rub=8500))\n",
        "print(exchange(usd=100, rate=85))\n",
        "print(exchange(rub=1000, rate=85))\n",
        "# 85.0\n",
        "# 8500\n",
        "# 11.764705882352942\n",
        "print(exchange(rub=1000, rate=85, usd=90))\n",
        "# ValueError: Too many arguments\n",
        "print(exchange(rub=1000))\n",
        "# ValueError: Not enough arguments"
      ]
    },
    {
      "cell_type": "code",
      "execution_count": null,
      "metadata": {
        "colab": {
          "base_uri": "https://localhost:8080/"
        },
        "id": "4R9JR4FoOmKz",
        "outputId": "2232763a-7d0a-4157-ad09-e861dc7cffda"
      },
      "outputs": [
        {
          "name": "stdout",
          "output_type": "stream",
          "text": [
            "25\n",
            "125\n",
            "144\n"
          ]
        }
      ],
      "source": [
        "def saver():\n",
        "    # Вместо pass напишите тело функции\n",
        "    count = 0\n",
        "    def adder(x):\n",
        "        nonlocal count\n",
        "        count += x\n",
        "        return count\n",
        "    return adder\n",
        "\n",
        "pig = saver()\n",
        "print(pig(25))\n",
        "print(pig(100))\n",
        "print(pig(19))"
      ]
    },
    {
      "cell_type": "code",
      "execution_count": null,
      "metadata": {
        "colab": {
          "base_uri": "https://localhost:8080/"
        },
        "id": "S9IZgH-sW9bj",
        "outputId": "7be931f7-de75-4555-c7dc-7037fb242e80"
      },
      "outputs": [
        {
          "name": "stdout",
          "output_type": "stream",
          "text": [
            "[1, 2, 3] 3\n",
            "[2, 3] 2\n",
            "[3] 1\n",
            "[] 0\n",
            "6\n"
          ]
        }
      ],
      "source": [
        "def multiply_lst(lst):\n",
        "    print(lst, len(lst))\n",
        "    if len(lst) == 0: return 1\n",
        "    return lst[0] * multiply_lst(lst[1:])\n",
        "\n",
        "print(multiply_lst([1,2,3]))"
      ]
    },
    {
      "cell_type": "code",
      "execution_count": null,
      "metadata": {
        "colab": {
          "background_save": true
        },
        "id": "W6MHwRpTZLKE",
        "outputId": "f4b81f2b-9fff-4e7f-e8fe-f24eb330e655"
      },
      "outputs": [
        {
          "name": "stdout",
          "output_type": "stream",
          "text": [
            "0\n",
            "1\n",
            "1\n",
            "2\n",
            "3\n"
          ]
        }
      ],
      "source": [
        "def fib(n):\n",
        "    \n",
        "    #print ('n=',n)\n",
        "    if n == 0: return 0\n",
        "    if n == 1: return 1\n",
        "    \n",
        "    return (fib(n-1) + fib(n-2))\n",
        "\n",
        "print(fib(0))\n",
        "print(fib(1))\n",
        "print(fib(2))\n",
        "print(fib(3))\n",
        "print(fib(4))"
      ]
    },
    {
      "cell_type": "code",
      "source": [
        "def power(val,n):\n",
        "    if n == 0: return 1\n",
        "    elif n == 1: return val\n",
        "    else:\n",
        "        return val * power(val, n-1)\n",
        "\n",
        "print(power(2,0))\n",
        "print(power(2,1))\n",
        "print(power(3,2))\n",
        "print(power(25,0))\n",
        "print(power(-5,4))"
      ],
      "metadata": {
        "colab": {
          "base_uri": "https://localhost:8080/"
        },
        "id": "0Ob2WUYChj0N",
        "outputId": "fddae1b7-a1c6-4801-8303-78a2a282bf6b"
      },
      "execution_count": null,
      "outputs": [
        {
          "output_type": "stream",
          "name": "stdout",
          "text": [
            "1\n",
            "2\n",
            "9\n",
            "1\n",
            "625\n"
          ]
        }
      ]
    },
    {
      "cell_type": "code",
      "source": [
        "def is_leap(year):\n",
        "    if (year % 400 == 0):\n",
        "        return True\n",
        "    elif (year % 100 == 0):\n",
        "        return False\n",
        "    elif (year % 4 == 0):\n",
        "        return True\n",
        "    else: return False\n",
        "\n",
        "print(is_leap(2000))\n",
        "print(is_leap(1900))\n",
        "print(is_leap(2020))\n",
        "print(is_leap(1950))"
      ],
      "metadata": {
        "colab": {
          "base_uri": "https://localhost:8080/"
        },
        "id": "DwzazEqqjQ1d",
        "outputId": "ef77a74f-5c04-41fd-c516-ae0f1a560bcb"
      },
      "execution_count": null,
      "outputs": [
        {
          "output_type": "stream",
          "name": "stdout",
          "text": [
            "True\n",
            "False\n",
            "True\n",
            "False\n"
          ]
        }
      ]
    },
    {
      "cell_type": "code",
      "source": [
        "def is_leap(year):\n",
        "    if (year % 400 == 0):\n",
        "        return True\n",
        "    elif (year % 100 == 0):\n",
        "        return False\n",
        "    elif (year % 4 == 0):\n",
        "        return True\n",
        "    else: return False\n",
        "\n",
        "def check_date(day, month, year):\n",
        "    #dt = str(day) + '.' + str(month) + '.' + str(year)\n",
        "    #print (dt)\n",
        "    #print('is_leap = ', is_leap(year))\n",
        "    if type(day) is int and type(month) is int and type(year) is int:\n",
        "        if year >= 1900 and year <= 2022:\n",
        "            if month >= 1 and month <= 12:\n",
        "                if day >= 1 and day <= 31:\n",
        "                    if month in [4,6,9,11] and day >= 30:\n",
        "                        return False\n",
        "                    elif month == 2 and ( (is_leap(year) and day > 29) or (is_leap(year) is False and day > 28)):\n",
        "                        return False\n",
        "                    else:\n",
        "                        return True\n",
        "                else:\n",
        "                    return False\n",
        "            else:\n",
        "                return False\n",
        "        else:\n",
        "            return False\n",
        "    else:\n",
        "        return False\n",
        "\n",
        "print(check_date(1,1,2000))\n",
        "print(check_date(18,9,1999))\n",
        "print(check_date(29,2,2000))\n",
        "print(check_date(29,2,2021))\n",
        "print(check_date(13,13,2021))\n",
        "print(check_date(13.5,12,2021))"
      ],
      "metadata": {
        "colab": {
          "base_uri": "https://localhost:8080/"
        },
        "id": "DgET0wSjpfgz",
        "outputId": "8ab9d04b-1c40-44d4-9895-b114776ba17b"
      },
      "execution_count": null,
      "outputs": [
        {
          "output_type": "stream",
          "name": "stdout",
          "text": [
            "True\n",
            "True\n",
            "True\n",
            "False\n",
            "False\n",
            "False\n"
          ]
        }
      ]
    },
    {
      "cell_type": "code",
      "source": [
        "def is_leap(year):\n",
        "    if (year % 400 == 0):\n",
        "        return True\n",
        "    elif (year % 100 == 0):\n",
        "        return False\n",
        "    elif (year % 4 == 0):\n",
        "        return True\n",
        "    else: return False\n",
        "\n",
        "#def check_date(day, month, year):\n",
        "def check_date(lst):\n",
        "    day, month, year = lst[0], lst[1], lst[2]\n",
        "\n",
        "    if type(day) is int and type(month) is int and type(year) is int:\n",
        "        if year >= 1900 and year <= 2022:\n",
        "            if month >= 1 and month <= 12:\n",
        "                if day >= 1 and day <= 31:\n",
        "                    if month in [4,6,9,11] and day >= 30:\n",
        "                        return False\n",
        "                    elif month == 2 and ( (is_leap(year) and day > 29) or (is_leap(year) is False and day > 28)):\n",
        "                        return False\n",
        "                    else:\n",
        "                        return True\n",
        "                else:\n",
        "                    return False\n",
        "            else:\n",
        "                return False\n",
        "        else:\n",
        "            return False\n",
        "    else:\n",
        "        return False\n",
        "\n",
        "def register(surname, name, date, middle_name = None, registry = None):\n",
        "    if registry is None:\n",
        "        registry = []\n",
        "    if check_date(date) is False:\n",
        "        raise ValueError (\"Invalid Date!\")\n",
        "    else:\n",
        "        user = (surname, name, middle_name, date[0], date[1], date[2])\n",
        "        registry.append(user)\n",
        "    return registry\n",
        "        \n",
        "\n",
        "reg = register('Petrova', 'Maria', (13, 3, 2003), 'Ivanovna')\n",
        "reg = register('Ivanov', 'Sergej', (24, 9, 1995), registry=reg)\n",
        "reg = register('Smith', 'John', (13, 2, 2003), registry=reg)\n",
        "print(reg)\n",
        "# [('Petrova', 'Maria', 'Ivanovna', 13, 3, 2003), ('Ivanov', 'Sergej', None, 24, 9, 1995), ('Smith', 'John', None, 13, 2, 2003)]\n",
        " \n",
        "#reg = register('Ivanov', 'Sergej', (24, 13, 1995))\n",
        "# ValueError: Invalid Date!"
      ],
      "metadata": {
        "colab": {
          "base_uri": "https://localhost:8080/"
        },
        "id": "f2JNzduGvOMj",
        "outputId": "bae7925c-9af6-4667-ebcc-f896dd1b5f57"
      },
      "execution_count": null,
      "outputs": [
        {
          "output_type": "stream",
          "name": "stdout",
          "text": [
            "[('Petrova', 'Maria', 'Ivanovna', 13, 3, 2003), ('Ivanov', 'Sergej', None, 24, 9, 1995), ('Smith', 'John', None, 13, 2, 2003)]\n"
          ]
        }
      ]
    },
    {
      "cell_type": "code",
      "source": [
        "simple_string = 'adafjkaff'\n",
        "iter(simple_string)"
      ],
      "metadata": {
        "colab": {
          "base_uri": "https://localhost:8080/"
        },
        "id": "LxPbUVUZdEZP",
        "outputId": "686cc7da-6628-4668-fc5b-67f59a17418b"
      },
      "execution_count": null,
      "outputs": [
        {
          "output_type": "execute_result",
          "data": {
            "text/plain": [
              "<str_iterator at 0x7f48baa6cbd0>"
            ]
          },
          "metadata": {},
          "execution_count": 1
        }
      ]
    },
    {
      "cell_type": "code",
      "source": [
        "def mygen():\n",
        "    i=7\n",
        "    print('hello')\n",
        "    while i>0:\n",
        "        i-=1\n",
        "        yield i\n",
        "\n",
        "#gen = mygen()\n",
        "#print(gen)\n",
        "\n",
        "def mygen():\n",
        "    i=7\n",
        "    while i>0:\n",
        "        i-=1\n",
        "        yield i\n",
        "\n",
        "gen = mygen()\n",
        "for i in gen:\n",
        "    print(i, end=' ')"
      ],
      "metadata": {
        "colab": {
          "base_uri": "https://localhost:8080/"
        },
        "id": "bl45hSz1lenY",
        "outputId": "f0ac87cd-e4d7-476e-fc60-8a345f25edbb"
      },
      "execution_count": null,
      "outputs": [
        {
          "output_type": "stream",
          "name": "stdout",
          "text": [
            "6 5 4 3 2 1 0 "
          ]
        }
      ]
    },
    {
      "cell_type": "code",
      "source": [
        "#Напишите бесконечный итератор по списку.\n",
        "#Для этого создайте генератор с названием inf_iter, который принимает на вход список и возвращает элементы из него через yield.\n",
        "#Когда элементы в списке заканчиваются, генератор снова возвращает элементы из списка, начиная с нулевого.\n",
        "\n",
        "#l = [101, 102, 103]\n",
        "#gen = inf_iter(l)\n",
        "#for _ in range(10):\n",
        "    #print(next(gen))\n",
        "\n",
        "def inf_iter(lst):\n",
        "    i = 0\n",
        "    while True:\n",
        "        for i in lst:\n",
        "            yield(i)\n",
        "\n",
        "l = [101, 102, 103]\n",
        "gen = inf_iter(l)\n",
        "for i in range(10):\n",
        "    print(next(gen))\n",
        "\n",
        "print(next(inf_iter([101,102,103])))"
      ],
      "metadata": {
        "colab": {
          "base_uri": "https://localhost:8080/"
        },
        "id": "MvKZxSfymYw7",
        "outputId": "484b62c0-86ef-4257-ff0f-2048ba987b34"
      },
      "execution_count": null,
      "outputs": [
        {
          "output_type": "stream",
          "name": "stdout",
          "text": [
            "101\n",
            "102\n",
            "103\n",
            "101\n",
            "102\n",
            "103\n",
            "101\n",
            "102\n",
            "103\n",
            "101\n",
            "101\n"
          ]
        }
      ]
    },
    {
      "cell_type": "code",
      "source": [
        "def group_gen(n):\n",
        "    while True:\n",
        "        for i in list(range(1,n+1)):\n",
        "            yield(i)\n",
        "\n",
        "groups = group_gen(3)\n",
        "for _ in range(10):\n",
        "    print(next(groups))"
      ],
      "metadata": {
        "colab": {
          "base_uri": "https://localhost:8080/"
        },
        "id": "zlh1BtuytTDi",
        "outputId": "e3773d99-3199-4d50-8d61-9704719d03e3"
      },
      "execution_count": null,
      "outputs": [
        {
          "output_type": "stream",
          "name": "stdout",
          "text": [
            "1\n",
            "2\n",
            "3\n",
            "1\n",
            "2\n",
            "3\n",
            "1\n",
            "2\n",
            "3\n",
            "1\n"
          ]
        }
      ]
    },
    {
      "cell_type": "code",
      "source": [
        "def root_generator(values):\n",
        "    for val in values:\n",
        "        if val >= 0:\n",
        "            result = val ** 0.5\n",
        "            yield result\n",
        "\n",
        "new_root_generator = root_generator([-5, 25, 36, -25, 0])\n",
        "print(next(new_root_generator))"
      ],
      "metadata": {
        "colab": {
          "base_uri": "https://localhost:8080/"
        },
        "id": "bcwnLpD1wje-",
        "outputId": "532471f6-f252-4eb0-9357-cc5a0014544d"
      },
      "execution_count": null,
      "outputs": [
        {
          "output_type": "stream",
          "name": "stdout",
          "text": [
            "5.0\n"
          ]
        }
      ]
    },
    {
      "cell_type": "code",
      "source": [
        "main_link = 'https://www.kommersant.ru'\n",
        "\n",
        "docs = [\n",
        "    '//doc/5041434?query=data%20science',\n",
        "    '//doc/5041567?query=data%20science',\n",
        "    '//doc/4283670?query=data%20science',\n",
        "    '//doc/3712659?query=data%20science',\n",
        "    '//doc/4997267?query=data%20science',\n",
        "    '//doc/4372673?query=data%20science',\n",
        "    '//doc/3779060?query=data%20science',\n",
        "    '//doc/3495410?query=data%20science',\n",
        "    '//doc/4308832?query=data%20science',\n",
        "    '//doc/4079881?query=data%20science'\n",
        "]\n",
        "\n",
        "def create_link(template_link, docs_list):\n",
        "    full_link = []\n",
        "    for doc in docs_list:\n",
        "        full_link.append(template_link + doc)\n",
        "    return full_link\n",
        "\n",
        "print(create_link(main_link,docs))\n",
        "\n",
        "links = list(map(lambda x: main_link + x, docs))\n",
        "\n",
        "print(links)"
      ],
      "metadata": {
        "colab": {
          "base_uri": "https://localhost:8080/"
        },
        "id": "bQdOblXozecy",
        "outputId": "648ccd8e-bd80-4985-9d94-2dfa8667bd7b"
      },
      "execution_count": null,
      "outputs": [
        {
          "output_type": "stream",
          "name": "stdout",
          "text": [
            "['https://www.kommersant.ru//doc/5041434?query=data%20science', 'https://www.kommersant.ru//doc/5041567?query=data%20science', 'https://www.kommersant.ru//doc/4283670?query=data%20science', 'https://www.kommersant.ru//doc/3712659?query=data%20science', 'https://www.kommersant.ru//doc/4997267?query=data%20science', 'https://www.kommersant.ru//doc/4372673?query=data%20science', 'https://www.kommersant.ru//doc/3779060?query=data%20science', 'https://www.kommersant.ru//doc/3495410?query=data%20science', 'https://www.kommersant.ru//doc/4308832?query=data%20science', 'https://www.kommersant.ru//doc/4079881?query=data%20science']\n",
            "['https://www.kommersant.ru//doc/5041434?query=data%20science', 'https://www.kommersant.ru//doc/5041567?query=data%20science', 'https://www.kommersant.ru//doc/4283670?query=data%20science', 'https://www.kommersant.ru//doc/3712659?query=data%20science', 'https://www.kommersant.ru//doc/4997267?query=data%20science', 'https://www.kommersant.ru//doc/4372673?query=data%20science', 'https://www.kommersant.ru//doc/3779060?query=data%20science', 'https://www.kommersant.ru//doc/3495410?query=data%20science', 'https://www.kommersant.ru//doc/4308832?query=data%20science', 'https://www.kommersant.ru//doc/4079881?query=data%20science']\n"
          ]
        }
      ]
    },
    {
      "cell_type": "code",
      "source": [
        "lens_list = [4, 6, 5, 9, 8, 3]\n",
        "even_list = []\n",
        "# Создаём цикл по элементам списка\n",
        "for item in lens_list:\n",
        "    # Проверяем условие, что текущий элемент списка чётный\n",
        "    if item % 2 == 0: # Если условие выполняется,\n",
        "        # добавляем элемент в новый список\n",
        "        even_list .append(item)\n",
        "print(even_list)\n",
        "# Будет напечатано:\n",
        "# [4, 6, 8]"
      ],
      "metadata": {
        "id": "U4ZuoiyO7ry_",
        "outputId": "58948b8d-f78f-4162-825e-6f0785c339bf",
        "colab": {
          "base_uri": "https://localhost:8080/"
        }
      },
      "execution_count": null,
      "outputs": [
        {
          "output_type": "stream",
          "name": "stdout",
          "text": [
            "[4, 6, 8]\n"
          ]
        }
      ]
    },
    {
      "cell_type": "code",
      "source": [
        "family_list = [\n",
        "    'certificate of a large family',\n",
        "    'social card',\n",
        "    'maternity capital',\n",
        "    'parking permit',\n",
        "    'tax benefit',\n",
        "    'reimbursement of expenses',\n",
        "    \"compensation for the purchase of children's goods\"\n",
        "    ]\n",
        "\n",
        "def family(*arg):\n",
        "    family_list = [\n",
        "    'certificate of a large family',\n",
        "    'social card',\n",
        "    'maternity capital',\n",
        "    'parking permit',\n",
        "    'tax benefit',\n",
        "    'reimbursement of expenses',\n",
        "    \"compensation for the purchase of children's goods\"\n",
        "    ]\n",
        "\n",
        "    res = filter(lambda x: x in family_list, arg)\n",
        "    return list(res)\n",
        "\n",
        "print(family('certificate of a large family', 'certificate of a large'))"
      ],
      "metadata": {
        "colab": {
          "base_uri": "https://localhost:8080/"
        },
        "id": "JXuWCQEcloGZ",
        "outputId": "afa544df-1189-437c-fb21-007740dc62a9"
      },
      "execution_count": null,
      "outputs": [
        {
          "output_type": "stream",
          "name": "stdout",
          "text": [
            "['certificate of a large family']\n"
          ]
        }
      ]
    },
    {
      "cell_type": "code",
      "source": [
        "names = ['Ivan', 'Nikita', 'Simon', 'Margarita', 'Vasilisa', 'Kim']\n",
        "\n",
        "long_names = filter(lambda x: len(x) >= 5, names)\n",
        "\n",
        "t     = map(lambda x: (x, x.upper().count('A')),long_names)\n",
        "\n",
        "print(list(t))"
      ],
      "metadata": {
        "colab": {
          "base_uri": "https://localhost:8080/"
        },
        "id": "igM2ZpErnaKB",
        "outputId": "fd9a8786-52a5-4646-ff95-0f2588fea335"
      },
      "execution_count": null,
      "outputs": [
        {
          "output_type": "stream",
          "name": "stdout",
          "text": [
            "[('Nikita', 1), ('Simon', 0), ('Margarita', 3), ('Vasilisa', 2)]\n"
          ]
        }
      ]
    },
    {
      "cell_type": "code",
      "source": [
        "def check_func(t):\n",
        "    surname = t[0]\n",
        "    name = t[1]\n",
        "    new_surname = surname + ' ' + name[0] + '.'\n",
        "    return (new_surname, t[2], t[3], t[4])\n",
        "\n",
        "reg = [('Ivanov', 'Sergej', 24, 9, 1995),\n",
        "      ('Smith', 'John', 13, 2, 2003),\n",
        "      ('Petrova', 'Maria', 13, 3, 2003)]\n",
        "\n",
        "new_reg = list(map(check_func, filter(lambda x: x[4] >= 2000, reg)))\n",
        "print(new_reg)"
      ],
      "metadata": {
        "colab": {
          "base_uri": "https://localhost:8080/"
        },
        "id": "lwVulXeNrvXG",
        "outputId": "e8ebbbdf-5373-4591-ce83-67486b3687a7"
      },
      "execution_count": null,
      "outputs": [
        {
          "output_type": "stream",
          "name": "stdout",
          "text": [
            "[('Smith J.', 13, 2, 2003), ('Petrova M.', 13, 3, 2003)]\n"
          ]
        }
      ]
    },
    {
      "cell_type": "code",
      "source": [
        "def group_gen(n=3):\n",
        "    while True:\n",
        "        for i in range(1, n+1):\n",
        "            yield i\n",
        "\n",
        "users = ['Smith J.', 'Petrova M.', 'Lubimov M.', 'Holov J.']\n",
        "\n",
        "def print_groups(u):\n",
        "    res = []\n",
        "    for user, group in zip(u, group_gen(3)):\n",
        "        res.append(str(user) + ' in group ' + str(group))\n",
        "    return res\n",
        "\n",
        "print_groups(users)"
      ],
      "metadata": {
        "id": "yeC4cZbCyqu7",
        "colab": {
          "base_uri": "https://localhost:8080/"
        },
        "outputId": "437ceaa4-6785-44dc-e4a3-1e6996f0a9c3"
      },
      "execution_count": null,
      "outputs": [
        {
          "output_type": "execute_result",
          "data": {
            "text/plain": [
              "['Smith J. in group 1',\n",
              " 'Petrova M. in group 2',\n",
              " 'Lubimov M. in group 3',\n",
              " 'Holov J. in group 1']"
            ]
          },
          "metadata": {},
          "execution_count": 77
        }
      ]
    },
    {
      "cell_type": "code",
      "source": [
        "# Декорирующая функция принимает в качестве\n",
        "# аргумента название функции\n",
        "def simple_decorator(func):\n",
        " \n",
        "    # Функция, в которой происходит модификация поведения\n",
        "    # функции func. Она будет принимать те же аргументы,\n",
        "    # что и функция func, которую декорирует decorated_function.\n",
        "    # Чтобы принять все возможные аргументы, используем сочетание\n",
        "    # *args и *kwargs.\n",
        "    def decorated_function(*args, **kwargs):\n",
        "        # Печатаем принятые аргументы\n",
        "        print(\"Input:\")\n",
        "        print(\"Positional:\", args)\n",
        "        print(\"Named:\", kwargs)\n",
        "        # С помощью конструкции *args/**kwargs\n",
        "        # считаем результат выполнения функции func\n",
        "        result = func(*args, **kwargs)\n",
        "        # Печатаем результат выполнения функции\n",
        "        print(\"Result:\", result)\n",
        "        # Не забываем вернуть результат, чтобы\n",
        "        # не повлиять на поведение декорируемой функции!\n",
        "        return result\n",
        "    # Внешняя функция возвращает функцию\n",
        "    # decorated_function\n",
        "    return decorated_function\n",
        "\n",
        "def root(value, n=2):\n",
        "    result = value ** (1/n)\n",
        "    return result\n",
        "# Декорируем функцию root с помощью функции simple_decorator\n",
        "decorated_root = simple_decorator(root)\n",
        "\n",
        "#print(decorated_root(625, 4))\n",
        "\n",
        "from time import time\n",
        " \n",
        "def time_decorator(func):\n",
        "    def decorated_func(*args, **kwargs):\n",
        "        # Получаем время на момент начала вычисления\n",
        "        start = time()\n",
        "        result = func(*args, **kwargs)\n",
        "        # Получаем время на момент окончания вычисления\n",
        "        end = time()\n",
        "        # Считаем длительность вычисления\n",
        "        delta = end - start\n",
        "        # Печатаем время работы функции\n",
        "        print(\"Runtime:\", delta)\n",
        "        return result\n",
        "    return decorated_func\n",
        "\n",
        "@time_decorator\n",
        "def root(value, n=2):\n",
        "    result = value ** (1/n)\n",
        "    return result\n",
        " \n",
        "print(root(81))\n",
        "print(root(81))\n",
        "print(root(81))\n",
        "print(root(81))"
      ],
      "metadata": {
        "colab": {
          "base_uri": "https://localhost:8080/"
        },
        "id": "C2Tuzp64pTcf",
        "outputId": "99507b00-164c-4ac4-b3ea-eb2ab5a9d71d"
      },
      "execution_count": null,
      "outputs": [
        {
          "output_type": "stream",
          "name": "stdout",
          "text": [
            "Runtime: 5.9604644775390625e-06\n",
            "9.0\n",
            "Runtime: 2.384185791015625e-06\n",
            "9.0\n",
            "Runtime: 1.430511474609375e-06\n",
            "9.0\n",
            "Runtime: 1.9073486328125e-06\n",
            "9.0\n"
          ]
        }
      ]
    },
    {
      "cell_type": "code",
      "source": [
        "def logger(Name):\n",
        "    def simple_decorator(func):\n",
        " \n",
        "        # Функция, в которой происходит модификация поведения\n",
        "        # функции func. Она будет принимать те же аргументы,\n",
        "        # что и функция func, которую декорирует decorated_function.\n",
        "        # Чтобы принять все возможные аргументы, используем сочетание\n",
        "        # *args и *kwargs.\n",
        "        def decorated_function(*args, **kwargs):\n",
        "            # Печатаем принятые аргументы\n",
        "            print(Name + ': Function root started')\n",
        "            # С помощью конструкции *args/**kwargs\n",
        "            # считаем результат выполнения функции func\n",
        "            result = func(*args, **kwargs)\n",
        "            # Печатаем результат выполнения функции\n",
        "            print(Name + ': Function root finished')\n",
        "            # Не забываем вернуть результат, чтобы\n",
        "            # не повлиять на поведение декорируемой функции!\n",
        "            return result\n",
        "        # Внешняя функция возвращает функцию\n",
        "        # decorated_function\n",
        "        return decorated_function\n",
        "    return simple_decorator\n",
        "\n",
        "@logger('MainLogger')\n",
        "def root(val, n=2):\n",
        "    res = val ** (1/n)\n",
        "    return res\n",
        " \n",
        "print(root(25))"
      ],
      "metadata": {
        "colab": {
          "base_uri": "https://localhost:8080/"
        },
        "id": "laqO3Nj9sBnK",
        "outputId": "ca400276-f5d4-43dc-9565-4b293917eddf"
      },
      "execution_count": null,
      "outputs": [
        {
          "output_type": "stream",
          "name": "stdout",
          "text": [
            "MainLogger: Function root started\n",
            "MainLogger: Function root finished\n",
            "5.0\n"
          ]
        }
      ]
    },
    {
      "cell_type": "code",
      "source": [
        "python_string = 'Hello! My name is Python. I will help you to analyze some data'\n",
        "a = len(python_string) ** 3\n",
        "print(a)\n",
        "\n",
        "print(python_string[18:24])\n",
        "\n",
        "str = python_string.replace('!', '')\n",
        "str = str.replace('.','')\n",
        "print(len(str.split()))"
      ],
      "metadata": {
        "colab": {
          "base_uri": "https://localhost:8080/"
        },
        "id": "mrhVl2A3GzP9",
        "outputId": "4771dcbc-56b2-444f-92f2-39663ed72af5"
      },
      "execution_count": null,
      "outputs": [
        {
          "output_type": "stream",
          "name": "stdout",
          "text": [
            "238328\n",
            "Python\n",
            "13\n"
          ]
        }
      ]
    },
    {
      "cell_type": "code",
      "source": [
        "# Напишите свою функцию password_change, которая должна выводить на экран \n",
        "# отформатированную строку в следующем виде: \n",
        "\n",
        "# \"User user_name changed password to new_password\"\n",
        "\n",
        "# Мы уже сделали заготовку функции вам осталось только задать строку\n",
        "# Переменные, которые надо использовать, указаны в круглых скобках после имени функции\n",
        "# user_name - имя пользователя, new_password - новый пароль\n",
        "# запишите форматированную строку вместо знаков вопроса\n",
        "# ! обязательное условие - задача должна быть решена с использованием метода format\n",
        "\n",
        "def change_password(user_name, new_password):\n",
        "    return 'User {0} changed password to {1}'.format(user_name,new_password)\n",
        "\n",
        "print(change_password(\"Lena\", \"qwerty\"))\n"
      ],
      "metadata": {
        "colab": {
          "base_uri": "https://localhost:8080/"
        },
        "id": "rQHzNJSo5jA8",
        "outputId": "bb787dbc-5ebb-4a3e-8397-a6b5d4251831"
      },
      "execution_count": null,
      "outputs": [
        {
          "output_type": "stream",
          "name": "stdout",
          "text": [
            "User Lena changed password to qwerty\n"
          ]
        }
      ]
    },
    {
      "cell_type": "code",
      "source": [
        "print('User {0} changed password to {1}'.format(1,2))"
      ],
      "metadata": {
        "colab": {
          "base_uri": "https://localhost:8080/"
        },
        "id": "jryGGyuS8AWs",
        "outputId": "0537c7ba-ee93-41aa-93dc-c0dde822be9f"
      },
      "execution_count": null,
      "outputs": [
        {
          "output_type": "stream",
          "name": "stdout",
          "text": [
            "User 1 changed password to 2\n"
          ]
        }
      ]
    },
    {
      "cell_type": "code",
      "source": [
        "# Напишите функцию get_unique_words(), которая избавляется от знаков препинаний \n",
        "# и пробелов в тексте и возвращает упорядоченный список \n",
        "# (слова расположены по алфавиту) из уникальных (неповторяющихся) слов.\n",
        "\n",
        "# Можно использовать готовый список со знаками препинания:\n",
        "\n",
        "punctuation_list = ['.', ',', ';', ':', '...', '!', '?', '-', '\"', '(', ')']\n",
        "\n",
        "# Текст, который можно использовать в качестве примера:\n",
        "text_example = \"A beginning is the time for taking the most delicate care that the balances are correct. This every sister of the Bene Gesserit knows. To begin your study of the life of Muad'Dib, then take care that you first place him in his time: born in the 57th year of the Padishah Emperor, Shaddam IV. And take the most special care that you locate Muad'Dib in his place: the planet Arrakis. Do not be deceived by the fact that he was born on Caladan and lived his first fifteen years there. Arrakis, the planet known as Dune, is forever his place.\"\n",
        "\n",
        "def get_unique_words(text):\n",
        "    for i in punctuation_list:\n",
        "        text = text.replace(i,'')\n",
        "    text = text.lower()\n",
        "    text = text.split()\n",
        "    lst = list(set(text))\n",
        "    lst.sort()\n",
        "    return lst\n",
        "\n",
        "print(get_unique_words(text_example))\n",
        "\n",
        "def get_most_frequent_word(text):\n",
        "    text = text.lower()\n",
        "    unique_words = get_unique_words(text)\n",
        "    max_cnt = 0\n",
        "    most_frequent_word = ''\n",
        "    for word in unique_words:\n",
        "        if text.count(word) > max_cnt:\n",
        "            most_frequent_word = word\n",
        "            max_cnt = text.count(word)\n",
        "    return most_frequent_word\n",
        "    \n",
        "print(get_most_frequent_word(text_example))\n"
      ],
      "metadata": {
        "colab": {
          "base_uri": "https://localhost:8080/"
        },
        "id": "uiS4ZTqPHsgZ",
        "outputId": "f35951bd-dcaa-481e-f273-7965a49c81ee"
      },
      "execution_count": null,
      "outputs": [
        {
          "output_type": "stream",
          "name": "stdout",
          "text": [
            "['the']\n",
            "the\n"
          ]
        }
      ]
    },
    {
      "cell_type": "code",
      "source": [
        "# Разработайте функцию holes_count(), которая подсчитывает количество отверстий \n",
        "# в заданном числе. Например, в цифре 8 два отверстия, в цифре 9 - одно. \n",
        "# В числе 146 - два отверстия. \n",
        "# Подсказка: используйте словарь для записи количества отверстий в цифрах\n",
        "\n",
        "def holes_count(number):\n",
        "  holes_dict = {'0':1, '4':1, '6':1, '8':2, '9':1}\n",
        "  number_list = list(str(number))\n",
        "  holes_count = 0\n",
        "  for number in number_list:\n",
        "      holes_count += holes_dict.get(number, 0)\n",
        "  return holes_count\n",
        "\n",
        "print(holes_count(123))\n",
        "print(holes_count(8888))\n",
        "print(holes_count(4688890))"
      ],
      "metadata": {
        "colab": {
          "base_uri": "https://localhost:8080/"
        },
        "id": "7U02R0oZv6yE",
        "outputId": "225ff582-c437-45f3-89c7-a687ee0f2f2d"
      },
      "execution_count": null,
      "outputs": [
        {
          "output_type": "stream",
          "name": "stdout",
          "text": [
            "0\n",
            "8\n",
            "10\n"
          ]
        }
      ]
    },
    {
      "cell_type": "code",
      "source": [
        "#Напишите программу, которая запрашивает у пользователя следующие данные : username, age, email о нескольких пользователях и собирает эти данные в структуру:\n",
        "\n",
        "#[(1, {'username': user1, 'age': age1, 'email': email1}), \n",
        "#(2, {'username': user2, 'age': age2, 'email': email2}), ... ]\n",
        "#Первый элемент каждого кортежа — порядковый номер пользователя, второй элемент — словарь с данными.\n",
        "\n",
        "#В итоге должен получиться список с кортежами.\n",
        "\n",
        "#Далее необходимо провести аналитику (собрать данные о пользователях в словарь)\n",
        "\n",
        "#{'username': [user1, user2, ...],\n",
        "#'age': [age1, age2, ...],\n",
        "#'email': [email1, email2, ...]}\n",
        "#и вывести эту аналитику на экран.\n",
        "\n",
        "num_users = int(input('Enter number if users:'))\n",
        "user_analytics = {'username': [], 'age': [], 'email' : []}\n",
        "user_list = []\n",
        "\n",
        "for i in range(num_users):\n",
        "    user = {}\n",
        "    user['username'] = input('Enter username:')\n",
        "    user['age'] = int(input('Enter user age:'))\n",
        "    user['email'] = input('Enter use email:')\n",
        "    \n",
        "    user_analytics['username'].append(user['username'])\n",
        "    user_analytics['age'].append(user['age'])\n",
        "    user_analytics['email'].append(user['email'])\n",
        "    user_list.append((i+1, user))\n",
        "\n",
        "print(user_list)\n",
        "print(user_analytics)"
      ],
      "metadata": {
        "id": "BvL5wGBz1xoo",
        "colab": {
          "base_uri": "https://localhost:8080/"
        },
        "outputId": "7dfffd2d-8810-4b83-aedc-7440619f1d87"
      },
      "execution_count": null,
      "outputs": [
        {
          "output_type": "stream",
          "name": "stdout",
          "text": [
            "Enter number if users:2\n",
            "Enter username:u1\n",
            "Enter user age:1\n",
            "Enter use email:e1\n",
            "Enter username:u2\n",
            "Enter user age:1\n",
            "Enter use email:e2\n",
            "[(1, {'username': 'u1', 'age': 1, 'email': 'e1'}), (2, {'username': 'u2', 'age': 1, 'email': 'e2'})]\n",
            "{'username': ['u1', 'u2'], 'age': [1, 1], 'email': ['e1', 'e2']}\n"
          ]
        }
      ]
    },
    {
      "cell_type": "code",
      "source": [
        "def is_divided_by_six(number):\n",
        "    return True if number % 2 == 0 and number % 3 == 0 else False\n",
        "\n",
        "is_divided_by_six(6)"
      ],
      "metadata": {
        "colab": {
          "base_uri": "https://localhost:8080/"
        },
        "id": "O5fgtk2dhEdl",
        "outputId": "ce81707e-8e6b-47a1-bd5d-c469821bf14c"
      },
      "execution_count": null,
      "outputs": [
        {
          "output_type": "execute_result",
          "data": {
            "text/plain": [
              "True"
            ]
          },
          "metadata": {},
          "execution_count": 1
        }
      ]
    },
    {
      "cell_type": "code",
      "source": [
        "def check_number_sign(number):\n",
        "    if number > 0:\n",
        "        return 1\n",
        "    elif number < 0:\n",
        "        return -1\n",
        "    else: return 0"
      ],
      "metadata": {
        "id": "X5uAzd-6mMRT"
      },
      "execution_count": null,
      "outputs": []
    },
    {
      "cell_type": "code",
      "source": [
        "def division(a,b):\n",
        "    try:\n",
        "        c = a / b\n",
        "        return c\n",
        "    except ZeroDivisionError:\n",
        "        return None\n",
        "\n",
        "division(2, 3)"
      ],
      "metadata": {
        "colab": {
          "base_uri": "https://localhost:8080/"
        },
        "id": "DRPRlZMtmf1Z",
        "outputId": "80922338-af76-445c-9360-86e97233b9aa"
      },
      "execution_count": null,
      "outputs": [
        {
          "output_type": "execute_result",
          "data": {
            "text/plain": [
              "0.6666666666666666"
            ]
          },
          "metadata": {},
          "execution_count": 2
        }
      ]
    },
    {
      "cell_type": "code",
      "source": [
        "def lucky_ticket(ticket):\n",
        "    ticket_num = list(str(ticket))\n",
        "    if int(ticket_num[0])+int(ticket_num[1])+int(ticket_num[2]) == int(ticket_num[3])+int(ticket_num[4])+int(ticket_num[5]):\n",
        "        return True\n",
        "    else:\n",
        "        return False\n",
        "\n",
        "print(lucky_ticket(123321))"
      ],
      "metadata": {
        "colab": {
          "base_uri": "https://localhost:8080/"
        },
        "id": "TEHdHznSoH3-",
        "outputId": "bac97ca3-0c48-4d92-f321-461cb91a43af"
      },
      "execution_count": null,
      "outputs": [
        {
          "output_type": "stream",
          "name": "stdout",
          "text": [
            "['1', '2', '3', '3', '2', '1'] 123 321\n",
            "True\n"
          ]
        }
      ]
    },
    {
      "cell_type": "code",
      "source": [
        "def fib_number(n):\n",
        "    if n == 0:\n",
        "        return 0\n",
        "    elif n == 1:\n",
        "        return 1\n",
        "    else:\n",
        "        fib1 = 1\n",
        "        fib2 = 1 \n",
        "        i = 0\n",
        "        while i < n - 2:\n",
        "            fib_sum = fib1 + fib2\n",
        "            fib1 = fib2\n",
        "            fib2 = fib_sum\n",
        "            i = i + 1\n",
        "    return fib2\n",
        "\n",
        "print(fib_number(6))\n"
      ],
      "metadata": {
        "colab": {
          "base_uri": "https://localhost:8080/"
        },
        "id": "Qu1rERNvpCy3",
        "outputId": "5f039367-ad7d-4d2b-a545-b18bde5cde66"
      },
      "execution_count": null,
      "outputs": [
        {
          "output_type": "stream",
          "name": "stdout",
          "text": [
            "8\n"
          ]
        }
      ]
    },
    {
      "cell_type": "code",
      "source": [
        "# Напишите функцию def even_numbers_in_matrix(), \n",
        "# которая получает на вход матрицу (список из списков) \n",
        "# и возвращает количество четных чисел в ней.\n",
        "\n",
        "matrix_example = [\n",
        "          [1, 5, 4],\n",
        "          [4, 2, -2],\n",
        "          [7, 65, 88]\n",
        "]\n",
        "\n",
        "def even_numbers_in_matrix(matrix):\n",
        "    even_cnt = 0\n",
        "    for i in matrix:\n",
        "         for j in i:\n",
        "              if j % 2 == 0:\n",
        "                  even_cnt += 1\n",
        "    return even_cnt\n",
        "\n",
        "print(even_numbers_in_matrix(matrix_example))\n"
      ],
      "metadata": {
        "colab": {
          "base_uri": "https://localhost:8080/"
        },
        "id": "ylgR0I0je9m-",
        "outputId": "c1de521e-a00d-452a-f887-b6d8f92575a1"
      },
      "execution_count": null,
      "outputs": [
        {
          "output_type": "stream",
          "name": "stdout",
          "text": [
            "5\n"
          ]
        }
      ]
    },
    {
      "cell_type": "code",
      "source": [
        "#Напишите функцию def matrix_sum(), которая получает на вход две матрицы и возвращает их сумму.\n",
        "\n",
        "#Примечание: чтобы найти сумму двух матриц, нужно просуммировать их соответствующие элементы.\n",
        "#Но перед этим необходимо проверить, что размеры матриц одинаковы (одинаковое количество столбцов и одинаковое количество строк).\n",
        "#Если размеры матриц не совпадают, то надо вывести на экран сообщение 'Error! Matrices dimensions are different!' с помощью функции print(),\n",
        "#а затем вернуть значение None из функции matrix_sum().\n",
        "\n",
        "# Напишите функцию def matrix_sum(), которая получает на вход две матрицы \n",
        "# и возвращает их сумму.\n",
        "\n",
        "# Примечание: чтобы найти сумму двух матриц, нужно просуммировать \n",
        "# их соответствующие элементы. Но перед этим необходимо проверить, что размеры \n",
        "# матриц одинаковы (одинаковое количество столбцов и одинаковое количество строк)\n",
        "\n",
        "# Например:\n",
        "\n",
        "# 1 2 3   2 3 4   3 5 7\n",
        "# 2 3 4 + 4 5 6 = 6 8 10\n",
        "# 5 6 7   4 3 2   9 9 9\n",
        "\n",
        "matrix_example = [\n",
        "          [1, 5, 4],\n",
        "          [4, 2, -2],\n",
        "          [7, 65, 88]\n",
        "]\n",
        "\n",
        "def matrix_sum(matrix1, matrix2):\n",
        "  # проверяем размеры матриц - они должны совпадать!\n",
        "  elem_count1 = 0\n",
        "  elem_count2 = 0\n",
        "  new_matrix = []\n",
        "  for i in matrix1:\n",
        "         for j in i:\n",
        "             elem_count1 += 1\n",
        "  for i in matrix2:\n",
        "         for j in i:\n",
        "             elem_count2 += 1\n",
        "  new_matrix = [0]*len(matrix1)\n",
        "  for i in range(len(matrix1)):\n",
        "       new_matrix[i] = [0] * len(matrix1)\n",
        "  if elem_count1 != elem_count2:\n",
        "      print('Error! Matrices dimensions are different!')\n",
        "      return None\n",
        "  else:\n",
        "      for i in range(len(matrix1)):\n",
        "          for j in range(len(matrix1[0])): \n",
        "              new_matrix[i][j] = matrix1[i][j] + matrix2[i][j] \n",
        "              \n",
        "  return new_matrix\n",
        "\n",
        "print(matrix_sum(matrix_example, matrix_example))\n"
      ],
      "metadata": {
        "colab": {
          "base_uri": "https://localhost:8080/"
        },
        "id": "qu1F07BsklCa",
        "outputId": "1c368c46-4193-47c4-ed9f-817e9ce6982d"
      },
      "execution_count": null,
      "outputs": [
        {
          "output_type": "stream",
          "name": "stdout",
          "text": [
            "[0, 0, 0]\n",
            "[[0, 0, 0], [0, 0, 0], [0, 0, 0]]\n",
            "[[2, 10, 8], [8, 4, -4], [14, 130, 176]]\n"
          ]
        }
      ]
    },
    {
      "cell_type": "code",
      "source": [
        "st=\"aaabbccccdaa\"\n",
        "\n",
        "new_lst = list(st)\n",
        "uniq = list(set(st))\n",
        "uniq.sort()\n",
        "new_str = \"\"\n",
        "for i in uniq:\n",
        "    print(i)\n",
        "    new_str += i + str(new_lst.count(i))\n",
        "print(new_str)"
      ],
      "metadata": {
        "colab": {
          "base_uri": "https://localhost:8080/"
        },
        "id": "0SZvRFQMxQMq",
        "outputId": "6aeecd79-ce6d-4d21-dbc8-06ea2e6eed6d"
      },
      "execution_count": null,
      "outputs": [
        {
          "output_type": "stream",
          "name": "stdout",
          "text": [
            "a\n",
            "b\n",
            "c\n",
            "d\n",
            "a5b2c4d1\n"
          ]
        }
      ]
    },
    {
      "cell_type": "code",
      "source": [
        "A = [[1,2,3], \n",
        "     [4,5,6], \n",
        "     [7 ,8,9]] \n",
        "  \n",
        "B = [[9,8,7], \n",
        "     [6,5,4], \n",
        "     [3,2,1]] \n",
        "  \n",
        "  \n",
        "result = [[0,0,0], \n",
        "          [0,0,0], \n",
        "          [0,0,0]] \n",
        "  \n",
        "# iterate through rows \n",
        "for i in range(len(A)):    \n",
        "# iterate through columns \n",
        "    for j in range(len(A[0])): \n",
        "       result[i][j] = A[i][j]+B[i][j] \n",
        "  \n",
        "print(result)"
      ],
      "metadata": {
        "colab": {
          "base_uri": "https://localhost:8080/"
        },
        "id": "6LYJojEir8W6",
        "outputId": "42bd3bdf-d0e5-4ab4-f9e4-1ff7c72ee9d8"
      },
      "execution_count": null,
      "outputs": [
        {
          "output_type": "stream",
          "name": "stdout",
          "text": [
            "[[10, 10, 10], [10, 10, 10], [10, 10, 10]]\n"
          ]
        }
      ]
    },
    {
      "cell_type": "code",
      "source": [
        "users_list = [\"admin\", \"ivan\", \"ivan_ivan\"]\n",
        "\n",
        "def user_auth(func):\n",
        "    def wrapper():\n",
        "        user = input(\"Enter username: \")\n",
        "        if user in users_list:\n",
        "            print(\"User authed\")\n",
        "            func()\n",
        "        else:\n",
        "            print(\"Unknown user!\")\n",
        "\n",
        "    return wrapper\n",
        "\n",
        "\n",
        "@user_auth\n",
        "def get_data_from_database():\n",
        "    print(\"Super secure data from database\")\n",
        "\n",
        "get_data_from_database()"
      ],
      "metadata": {
        "colab": {
          "base_uri": "https://localhost:8080/"
        },
        "id": "UoK2VGhX8fLf",
        "outputId": "31fb8293-cc98-4279-f1c3-6ab18bdeea9f"
      },
      "execution_count": null,
      "outputs": [
        {
          "output_type": "stream",
          "name": "stdout",
          "text": [
            "Enter username: admin\n",
            "User authed\n",
            "Super secure data from database\n"
          ]
        }
      ]
    }
  ],
  "metadata": {
    "colab": {
      "collapsed_sections": [],
      "name": "Untitled0.ipynb",
      "provenance": [],
      "authorship_tag": "ABX9TyOTvHsjhrVh6IWDt5I58y6b",
      "include_colab_link": true
    },
    "kernelspec": {
      "display_name": "Python 3",
      "name": "python3"
    },
    "language_info": {
      "name": "python"
    },
    "accelerator": "GPU"
  },
  "nbformat": 4,
  "nbformat_minor": 0
}